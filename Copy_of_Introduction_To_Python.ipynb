{
  "nbformat": 4,
  "nbformat_minor": 0,
  "metadata": {
    "colab": {
      "name": "Copy of Introduction To Python",
      "provenance": [],
      "collapsed_sections": [
        "copyright"
      ],
      "toc_visible": true,
      "include_colab_link": true
    },
    "kernelspec": {
      "display_name": "Python 3",
      "name": "python3"
    }
  },
  "cells": [
    {
      "cell_type": "markdown",
      "metadata": {
        "id": "view-in-github",
        "colab_type": "text"
      },
      "source": [
        "<a href=\"https://colab.research.google.com/github/Applied-Machine-Learning-2021/git-fundamentals-JordanOgbuFelix/blob/first-draft-content/Copy_of_Introduction_To_Python.ipynb\" target=\"_parent\"><img src=\"https://colab.research.google.com/assets/colab-badge.svg\" alt=\"Open In Colab\"/></a>"
      ]
    },
    {
      "cell_type": "markdown",
      "metadata": {
        "id": "copyright"
      },
      "source": [
        "#### Copyright 2020 Google LLC."
      ]
    },
    {
      "cell_type": "code",
      "metadata": {
        "id": "vUL-MxtcowtQ"
      },
      "source": [
        "# Licensed under the Apache License, Version 2.0 (the \"License\");\n",
        "# you may not use this file except in compliance with the License.\n",
        "# You may obtain a copy of the License at\n",
        "#\n",
        "# https://www.apache.org/licenses/LICENSE-2.0\n",
        "#\n",
        "# Unless required by applicable law or agreed to in writing, software\n",
        "# distributed under the License is distributed on an \"AS IS\" BASIS,\n",
        "# WITHOUT WARRANTIES OR CONDITIONS OF ANY KIND, either express or implied.\n",
        "# See the License for the specific language governing permissions and\n",
        "# limitations under the License."
      ],
      "execution_count": null,
      "outputs": []
    },
    {
      "cell_type": "markdown",
      "metadata": {
        "id": "ZutSxI49o8Jh"
      },
      "source": [
        "# Introduction to Python"
      ]
    },
    {
      "cell_type": "markdown",
      "metadata": {
        "id": "ZutSxI49o8J5"
      },
      "source": [
        "Python is the most common language used for machine learning. It is an approachable yet versatile language that's used for a variety of applications.\n",
        "\n",
        "It can take years to learn all the intricacies of Python, but luckily you can learn enough Python to become proficient in machine learning in a much shorter period of time.\n",
        "\n",
        "This Colab is a quick introduction to the core attributes of Python that you'll need to know to get started. This is only a brief peek into the parts of the language that you'll commonly encounter as a data scientist. As you progress through this course, we'll introduce you to the Python concepts you'll need along the way.\n",
        "\n",
        "If you already know Python, this lesson should be a quick refresher. You might be able to simply skip to the exercises at the bottom of the document.\n",
        "\n",
        "If you know another programming language, you will want to pay close attention because Python is markedly different than most popular languages in use today. If you are new to programming, welcome! Hopefully this lesson will give you the tools you need to get started with data science."
      ]
    },
    {
      "cell_type": "markdown",
      "metadata": {
        "id": "nitMt74ZpjSN"
      },
      "source": [
        "## Variables\n",
        " \n",
        "One of the most important notions in any programming language is the **variable**. Variables are how we store data we want to use later.\n",
        " \n",
        "When we have an expression like `2 + 3`, Python calculates the value of `5` and then forgets that the value ever existed. We need some way to store the values of expressions so that they can be used later in the program. To do that, we use variables.\n",
        " \n",
        "In the example below, the value of `2 + 3` is stored in the variable `x`."
      ]
    },
    {
      "cell_type": "code",
      "metadata": {
        "id": "rNMTYmdOuS1t",
        "colab": {
          "base_uri": "https://localhost:8080/"
        },
        "outputId": "f9926656-fd83-4410-a28f-067c5c559fc6"
      },
      "source": [
        "x = 2 + 3\n",
        "x"
      ],
      "execution_count": 97,
      "outputs": [
        {
          "output_type": "execute_result",
          "data": {
            "text/plain": [
              "5"
            ]
          },
          "metadata": {
            "tags": []
          },
          "execution_count": 97
        }
      ]
    },
    {
      "cell_type": "markdown",
      "metadata": {
        "id": "eixDMWWW1oDo"
      },
      "source": [
        "Variables store values, and those values can be used in expressions."
      ]
    },
    {
      "cell_type": "code",
      "metadata": {
        "id": "mgUEjQbk1yEV",
        "colab": {
          "base_uri": "https://localhost:8080/"
        },
        "outputId": "82705d23-3d71-497e-9318-92a476c2b703"
      },
      "source": [
        "x = 2\n",
        "y = 3\n",
        "x + y"
      ],
      "execution_count": 63,
      "outputs": [
        {
          "output_type": "execute_result",
          "data": {
            "text/plain": [
              "5"
            ]
          },
          "metadata": {
            "tags": []
          },
          "execution_count": 63
        }
      ]
    },
    {
      "cell_type": "markdown",
      "metadata": {
        "id": "jC17KacSEvdZ"
      },
      "source": [
        "Variable value can also be changed, hence the name *variable*."
      ]
    },
    {
      "cell_type": "code",
      "metadata": {
        "id": "2wYs4zbuE6rA",
        "colab": {
          "base_uri": "https://localhost:8080/"
        },
        "outputId": "6b11d3aa-7701-429d-ded1-da65c4f372e3"
      },
      "source": [
        "x = 123\n",
        "x = 456\n",
        "x"
      ],
      "execution_count": 64,
      "outputs": [
        {
          "output_type": "execute_result",
          "data": {
            "text/plain": [
              "456"
            ]
          },
          "metadata": {
            "tags": []
          },
          "execution_count": 64
        }
      ]
    },
    {
      "cell_type": "markdown",
      "metadata": {
        "id": "mT_0fsbuFses"
      },
      "source": [
        "There are very few rules regarding what you can name a variable. The first character needs to be an alphabetic character. After the first character, any alphanumeric character can be used. Underscores are also okay to use anywhere in a variable name, but stay away from naming a variable with two underscores at the beginning, since Python uses leading double-underscores for internal things. (This will be seen in a later lesson.)\n",
        "\n",
        "Here are a few valid variable names:"
      ]
    },
    {
      "cell_type": "code",
      "metadata": {
        "id": "_EVPT2D-GbUp",
        "colab": {
          "base_uri": "https://localhost:8080/"
        },
        "outputId": "938f0bea-cf0f-4242-d6d0-df20e67c3023"
      },
      "source": [
        "number = 1\n",
        "my_number = 2\n",
        "YourNumber = 3\n",
        "_the_number_four = 4\n",
        "n5 = 5\n",
        "NUMBER = 6\n",
        "\n",
        "number + my_number + YourNumber + _the_number_four + n5 + NUMBER"
      ],
      "execution_count": 65,
      "outputs": [
        {
          "output_type": "execute_result",
          "data": {
            "text/plain": [
              "21"
            ]
          },
          "metadata": {
            "tags": []
          },
          "execution_count": 65
        }
      ]
    },
    {
      "cell_type": "markdown",
      "metadata": {
        "id": "6LYdiJ4DGyy5"
      },
      "source": [
        "Notice that `number` and `NUMBER` are different variables. Case matters.\n",
        "\n",
        "Although Python will accept other styles, it is common convention to name constants in all caps (e.g. `THE_NUMBER`) and variables using lower_with_underscore syntax (e.g. `a_number`). See the [Python Style Guide](https://www.python.org/dev/peps/pep-0008/#naming-conventions) for more on naming conventions. Adhere to the guide when you can. It will help others understand your code and it will train you to be able to read other programmers' Python code."
      ]
    },
    {
      "cell_type": "markdown",
      "metadata": {
        "id": "n6232TxSHCdA"
      },
      "source": [
        "Naming variables is an important aspect of computer programming. Variables serve as a form of documentation within your code. Good names will help your teammates and your future self understand what your code is doing when they are trying to modify it. Take some time to think about your variable names as you create new variables.\n",
        " \n",
        "It is also important to keep your variable naming style consistent. Don't use different naming styles (such as `this_variable` and `thisVariable`) in the same file/package unless you have a valid reason to do so."
      ]
    },
    {
      "cell_type": "markdown",
      "metadata": {
        "id": "EpzRj0xf7_Qf"
      },
      "source": [
        "## Printing and Strings"
      ]
    },
    {
      "cell_type": "markdown",
      "metadata": {
        "id": "z953Qlkk7RvE"
      },
      "source": [
        "### Strings\n",
        "\n",
        "The **string** data type can contain zero or more characters. In order for Python to know that a string is a value and not part of the code, strings have to be wrapped in quotes.\n",
        "\n",
        "Some example strings are:"
      ]
    },
    {
      "cell_type": "code",
      "metadata": {
        "id": "bkdwYrWTDdSu",
        "colab": {
          "base_uri": "https://localhost:8080/",
          "height": 35
        },
        "outputId": "aff27c0b-894a-46d2-e12e-47aa0526ec6f"
      },
      "source": [
        "\"Python is a useful programming language\""
      ],
      "execution_count": 98,
      "outputs": [
        {
          "output_type": "execute_result",
          "data": {
            "application/vnd.google.colaboratory.intrinsic+json": {
              "type": "string"
            },
            "text/plain": [
              "'Python is a useful programming language'"
            ]
          },
          "metadata": {
            "tags": []
          },
          "execution_count": 98
        }
      ]
    },
    {
      "cell_type": "markdown",
      "metadata": {
        "id": "0AIuKYsy4oTT"
      },
      "source": [
        ""
      ]
    },
    {
      "cell_type": "markdown",
      "metadata": {
        "id": "9eueuHaW4bZV"
      },
      "source": [
        "\"python is a\n",
        "useful programming language\""
      ]
    },
    {
      "cell_type": "markdown",
      "metadata": {
        "id": "oG8rzEjCIrFN"
      },
      "source": [
        "Single and double-quotes are interchangeable, and both occur frequently. In general, try to pick one style of quotation marks and stick with it, unless you need to use that type of quote in a string.\n",
        "\n",
        "The following string requires the `'` character within the string, so it makes sense to use `\"` as the quotation marks."
      ]
    },
    {
      "cell_type": "code",
      "metadata": {
        "id": "7i7kcmjWJOiq",
        "colab": {
          "base_uri": "https://localhost:8080/",
          "height": 35
        },
        "outputId": "006ef35d-c713-43b4-ee61-49aed735021a"
      },
      "source": [
        "\"I've been learning Python\""
      ],
      "execution_count": 99,
      "outputs": [
        {
          "output_type": "execute_result",
          "data": {
            "application/vnd.google.colaboratory.intrinsic+json": {
              "type": "string"
            },
            "text/plain": [
              "\"I've been learning Python\""
            ]
          },
          "metadata": {
            "tags": []
          },
          "execution_count": 99
        }
      ]
    },
    {
      "cell_type": "markdown",
      "metadata": {
        "id": "s23P6KyYJXmB"
      },
      "source": [
        "But what if you need to use both `'` and `\"` in the same string? In that case you can *escape* the embedded quote using the `\\` character. The `\\` tells Python to read the character `'` as it is, and not as the end of the quotation."
      ]
    },
    {
      "cell_type": "code",
      "metadata": {
        "id": "4ko6NWgQJet7",
        "colab": {
          "base_uri": "https://localhost:8080/",
          "height": 35
        },
        "outputId": "6e506d0d-6dcf-4d39-88c1-af76f63d19fa"
      },
      "source": [
        "'They\\'ve had a \"good\" trip'"
      ],
      "execution_count": 100,
      "outputs": [
        {
          "output_type": "execute_result",
          "data": {
            "application/vnd.google.colaboratory.intrinsic+json": {
              "type": "string"
            },
            "text/plain": [
              "'They\\'ve had a \"good\" trip'"
            ]
          },
          "metadata": {
            "tags": []
          },
          "execution_count": 100
        }
      ]
    },
    {
      "cell_type": "markdown",
      "metadata": {
        "id": "2oQvnltzJ0ii"
      },
      "source": [
        "You probably noticed that the escape character, `\\`,appears in the output. This is just a side effect of how Colab is printing the string. We'll learn a cleaner method of printing a string soon."
      ]
    },
    {
      "cell_type": "markdown",
      "metadata": {
        "id": "S57KwUN6KYlc"
      },
      "source": [
        "The triple-quote (`\"\"\"` or `'''`) is another type of quote that you can use to create a string. The triple-quote allows you to have a multi-line string. It is often used when writing documentation directly in your code."
      ]
    },
    {
      "cell_type": "code",
      "metadata": {
        "id": "kENH5-B_Ky3j",
        "colab": {
          "base_uri": "https://localhost:8080/",
          "height": 35
        },
        "outputId": "816a1099-9f3e-4022-ad85-5ba39b55187f"
      },
      "source": [
        "\"\"\"This is a string\n",
        "surrounded by three double-quotes\n",
        "and spanning multiple lines.\n",
        "\"\"\"\n",
        "\n",
        "'''This is a string\n",
        "surrounded by three single-quotes\n",
        "and spanning multiple lines.\n",
        "'''"
      ],
      "execution_count": 101,
      "outputs": [
        {
          "output_type": "execute_result",
          "data": {
            "application/vnd.google.colaboratory.intrinsic+json": {
              "type": "string"
            },
            "text/plain": [
              "'This is a string\\nsurrounded by three single-quotes\\nand spanning multiple lines.\\n'"
            ]
          },
          "metadata": {
            "tags": []
          },
          "execution_count": 101
        }
      ]
    },
    {
      "cell_type": "markdown",
      "metadata": {
        "id": "W2DnBnAZK2Hh"
      },
      "source": [
        "You can see in the output that the string shows up on one line with `\\n` added where the line breaks were. `\\n` is a special escape sequence that means \"line feed\", which is typewriter-speak for moving to the next line. `\\t` is another common escape sequence that represents a tab. `\\\\` adds a backslash `\\` to the string."
      ]
    },
    {
      "cell_type": "markdown",
      "metadata": {
        "id": "CqrJdWZMLzYt"
      },
      "source": [
        "Strings can be stored in variables. The `+` operator also works on strings, by concatenating them together."
      ]
    },
    {
      "cell_type": "code",
      "metadata": {
        "id": "ATDV6CX_MDD6",
        "colab": {
          "base_uri": "https://localhost:8080/",
          "height": 35
        },
        "outputId": "bed88d62-b60b-4ff0-f0ff-99e6fc414931"
      },
      "source": [
        "s1 = \"The Python \"\n",
        "s2 = \"programming\"\n",
        "s3 = \" language is easy to learn\"\n",
        "s1 + s2 + s3"
      ],
      "execution_count": 102,
      "outputs": [
        {
          "output_type": "execute_result",
          "data": {
            "application/vnd.google.colaboratory.intrinsic+json": {
              "type": "string"
            },
            "text/plain": [
              "'The Python programming language is easy to learn'"
            ]
          },
          "metadata": {
            "tags": []
          },
          "execution_count": 102
        }
      ]
    },
    {
      "cell_type": "markdown",
      "metadata": {
        "id": "f6yO48xYMQ8h"
      },
      "source": [
        "The `*` operator also works with strings, resulting in the string repeated multiple times. However, other arithmetic operators such as `-` and `/` don't work with strings."
      ]
    },
    {
      "cell_type": "code",
      "metadata": {
        "id": "tFEZNL-UMMuS",
        "colab": {
          "base_uri": "https://localhost:8080/",
          "height": 35
        },
        "outputId": "72c9ee8d-922e-4d10-be7b-43de06c91a9c"
      },
      "source": [
        "'ABC ' * 5"
      ],
      "execution_count": 103,
      "outputs": [
        {
          "output_type": "execute_result",
          "data": {
            "application/vnd.google.colaboratory.intrinsic+json": {
              "type": "string"
            },
            "text/plain": [
              "'ABC ABC ABC ABC ABC '"
            ]
          },
          "metadata": {
            "tags": []
          },
          "execution_count": 103
        }
      ]
    },
    {
      "cell_type": "markdown",
      "metadata": {
        "id": "bmqwHLl6Mng8"
      },
      "source": [
        "Python has a handy built-in way to find the *length* of a string, which is the number of characters in the string."
      ]
    },
    {
      "cell_type": "code",
      "metadata": {
        "id": "L-aLHVrANalL",
        "colab": {
          "base_uri": "https://localhost:8080/"
        },
        "outputId": "f3b637f4-b361-405d-c89c-d76a2ead149c"
      },
      "source": [
        "len(\"pneumonoultramicroscopicsilicovolcanoconiosis\")"
      ],
      "execution_count": 104,
      "outputs": [
        {
          "output_type": "execute_result",
          "data": {
            "text/plain": [
              "45"
            ]
          },
          "metadata": {
            "tags": []
          },
          "execution_count": 104
        }
      ]
    },
    {
      "cell_type": "markdown",
      "metadata": {
        "id": "dG3TxrOxOEry"
      },
      "source": [
        "If you need to extract a specific character from a string, you can specify that character by *indexing* it. Notice that in Python, the first character of a string is at index 0. Most popular programming languages start counting at 0."
      ]
    },
    {
      "cell_type": "code",
      "metadata": {
        "id": "fym2JmR4O2O1",
        "colab": {
          "base_uri": "https://localhost:8080/",
          "height": 35
        },
        "outputId": "654a118b-96fa-4700-83af-94d6412bc096"
      },
      "source": [
        "\"abcdefghijklmnopqrstuvwxyz\"[1]"
      ],
      "execution_count": 105,
      "outputs": [
        {
          "output_type": "execute_result",
          "data": {
            "application/vnd.google.colaboratory.intrinsic+json": {
              "type": "string"
            },
            "text/plain": [
              "'b'"
            ]
          },
          "metadata": {
            "tags": []
          },
          "execution_count": 105
        }
      ]
    },
    {
      "cell_type": "markdown",
      "metadata": {
        "id": "mdsjwVSBO_kN"
      },
      "source": [
        "You can also extract a *slice* of a string. A slice is a portion of a string referenced by the starting and ending index. The starting index is inclusive, and the ending index is exclusive. The slice below returns a four-character string."
      ]
    },
    {
      "cell_type": "code",
      "metadata": {
        "id": "Catcl26sPPpK",
        "colab": {
          "base_uri": "https://localhost:8080/",
          "height": 35
        },
        "outputId": "dd3753ee-3167-4548-bc60-faec7fe82dad"
      },
      "source": [
        "alphabet = \"abcdefghijklmnopqrstuvwxyz\"\n",
        "alphabet[1:5]"
      ],
      "execution_count": 106,
      "outputs": [
        {
          "output_type": "execute_result",
          "data": {
            "application/vnd.google.colaboratory.intrinsic+json": {
              "type": "string"
            },
            "text/plain": [
              "'bcde'"
            ]
          },
          "metadata": {
            "tags": []
          },
          "execution_count": 106
        }
      ]
    },
    {
      "cell_type": "markdown",
      "metadata": {
        "id": "bv18nj19P0y6"
      },
      "source": [
        "Slices have some handy shortcuts if you want to start at the beginning or go all the way to the end of a string."
      ]
    },
    {
      "cell_type": "code",
      "metadata": {
        "id": "s4CTYF86P_8c",
        "colab": {
          "base_uri": "https://localhost:8080/",
          "height": 35
        },
        "outputId": "e6dbeb5d-e57b-4c5c-d41d-7cf061db0a98"
      },
      "source": [
        "alphabet = \"abcdefghijklmnopqrstuvwxyz\"\n",
        "\n",
        "alphabet[:3]"
      ],
      "execution_count": 107,
      "outputs": [
        {
          "output_type": "execute_result",
          "data": {
            "application/vnd.google.colaboratory.intrinsic+json": {
              "type": "string"
            },
            "text/plain": [
              "'abc'"
            ]
          },
          "metadata": {
            "tags": []
          },
          "execution_count": 107
        }
      ]
    },
    {
      "cell_type": "code",
      "metadata": {
        "id": "Yf03bNPfAm0K"
      },
      "source": [
        ""
      ],
      "execution_count": 107,
      "outputs": []
    },
    {
      "cell_type": "code",
      "metadata": {
        "id": "8PNkhfs-QHPg",
        "colab": {
          "base_uri": "https://localhost:8080/",
          "height": 35
        },
        "outputId": "260a1416-67b9-45c4-b3b9-287ac8bf9315"
      },
      "source": [
        "alphabet = \"abcdefghijklmnopqrstuvwxyz\"\n",
        "\n",
        "alphabet[23:]"
      ],
      "execution_count": 108,
      "outputs": [
        {
          "output_type": "execute_result",
          "data": {
            "application/vnd.google.colaboratory.intrinsic+json": {
              "type": "string"
            },
            "text/plain": [
              "'xyz'"
            ]
          },
          "metadata": {
            "tags": []
          },
          "execution_count": 108
        }
      ]
    },
    {
      "cell_type": "markdown",
      "metadata": {
        "id": "zMRmvX9qQkON"
      },
      "source": [
        "Strings are *objects* in Python. We won't get into the details of what an object is in this tutorial, other than to mention that objects can have functions and methods called on them using **dot notation**. Below is an example object call on the `alphabet` string, that converts the entire string to uppercase. Notice that the function is called `alphabet.upper()` instead of `upper(alphabet)`, as we saw with the `len()` function."
      ]
    },
    {
      "cell_type": "code",
      "metadata": {
        "id": "zQCvFzGUQg4r",
        "colab": {
          "base_uri": "https://localhost:8080/",
          "height": 35
        },
        "outputId": "9ebce2da-a544-4d8c-828e-2ea9e25d8a03"
      },
      "source": [
        "alphabet.upper()"
      ],
      "execution_count": 109,
      "outputs": [
        {
          "output_type": "execute_result",
          "data": {
            "application/vnd.google.colaboratory.intrinsic+json": {
              "type": "string"
            },
            "text/plain": [
              "'ABCDEFGHIJKLMNOPQRSTUVWXYZ'"
            ]
          },
          "metadata": {
            "tags": []
          },
          "execution_count": 109
        }
      ]
    },
    {
      "cell_type": "markdown",
      "metadata": {
        "id": "WXBznfKiRcsb"
      },
      "source": [
        "More information on string functionality in Python can be found in the [Python string](https://docs.python.org/3.7/library/string.html) documentation."
      ]
    },
    {
      "cell_type": "markdown",
      "metadata": {
        "id": "7TXyYyUBv77C"
      },
      "source": [
        "### Printing\n",
        "\n",
        "So far, we have relied on Colab to print out the data that we have been working with. This works fine for simple examples, but it doesn't work if you want to print multiple times in a code snippet.\n",
        "\n",
        "The **`print`** function allows you to print any data structure to the screen."
      ]
    },
    {
      "cell_type": "code",
      "metadata": {
        "id": "UeZabHvqv769",
        "colab": {
          "base_uri": "https://localhost:8080/"
        },
        "outputId": "68e7def3-1971-4940-9d03-ecc8c476d472"
      },
      "source": [
        "my_variable = \"I'm a variable\"\n",
        "print(my_variable)\n",
        "print(\"Hello class!\")\n",
        "print(12345)\n",
        "print(123.45)\n",
        "print(['a', 3, 'element list'])\n",
        "print(('a', 3, 'element tuple'))\n",
        "print({\"my\": \"dictionary\"})"
      ],
      "execution_count": 119,
      "outputs": [
        {
          "output_type": "stream",
          "text": [
            "I'm a variable\n",
            "Hello class!\n",
            "12345\n",
            "123.45\n",
            "['a', 3, 'element list']\n",
            "('a', 3, 'element tuple')\n",
            "{'my': 'dictionary'}\n"
          ],
          "name": "stdout"
        }
      ]
    },
    {
      "cell_type": "markdown",
      "metadata": {
        "id": "1wopo_J1v766"
      },
      "source": [
        "You'll notice that `print` adds a new line to the output every time it is called. We can add an `end=''` argument to the `print` to take away the new line."
      ]
    },
    {
      "cell_type": "code",
      "metadata": {
        "id": "mrmKTVDXv760",
        "colab": {
          "base_uri": "https://localhost:8080/"
        },
        "outputId": "74deb703-94e5-4f7e-a36a-cdf543e7287d"
      },
      "source": [
        "print(\"The magic number is \", end='')\n",
        "print(42)"
      ],
      "execution_count": 120,
      "outputs": [
        {
          "output_type": "stream",
          "text": [
            "The magic number is 42\n"
          ],
          "name": "stdout"
        }
      ]
    },
    {
      "cell_type": "markdown",
      "metadata": {
        "id": "IkXnWJ3Pv76y"
      },
      "source": [
        "There is another Python feature that, though not strictly just for printing, is commonly used when printing: **text formatting**.\n",
        "\n",
        "Text formatting allows you to print multiple values in a single `print` statement and to mix strings and numbers."
      ]
    },
    {
      "cell_type": "code",
      "metadata": {
        "id": "qDCoQSCFv76s",
        "colab": {
          "base_uri": "https://localhost:8080/"
        },
        "outputId": "87cdfb2e-75c4-42d6-923c-06360e0e1d11"
      },
      "source": [
        "print(\"%s says that the numbers %d and %f sum to %f\" % (\"Bob\", 3, 5.1, 3 + 5.1))"
      ],
      "execution_count": 121,
      "outputs": [
        {
          "output_type": "stream",
          "text": [
            "Bob says that the numbers 3 and 5.100000 sum to 8.100000\n"
          ],
          "name": "stdout"
        }
      ]
    },
    {
      "cell_type": "markdown",
      "metadata": {
        "id": "1Nnhnon_v76p"
      },
      "source": [
        "There is quite a bit going on in the code above, so let's break it down into pieces:\n",
        " \n",
        "* The first string we see in the `print` call is `\"%s says that the numbers %d and %f sum to %f\"`. This string contains `%s`, `%d`, and `%f` placeholders. These placeholders tell Python that we expect a string (`%s`), integer (`%d`), or floating-point number (`%f`) that we'll put in the string. (A floating-point number is any non-integer number.)\n",
        " \n",
        "* Next we see a percentage sign `%` after the string. This is the string formatting operator. It comes after a string and precedes the tuple containing the data that will populate the placeholders in the string.\n",
        " \n",
        "* Finally comes the tuple containing the data that will populate the placeholders. The data in the tuple should be in the same order that the placeholders appear in the string. For example, the second placeholder is `%d`, and the second item in the tuple is the integer `3`."
      ]
    },
    {
      "cell_type": "markdown",
      "metadata": {
        "id": "PihhIEJSv76m"
      },
      "source": [
        "There is a more modern and object-oriented formatting function that can be used to achieve the same goal. Notice the placeholders in the string passed to the `print` function are all curly braces. Also, the floating-point values are truncated to the appropriate number of decimal points in the output."
      ]
    },
    {
      "cell_type": "code",
      "metadata": {
        "id": "44loLjJZv76W",
        "colab": {
          "base_uri": "https://localhost:8080/"
        },
        "outputId": "080cd168-c311-4d46-b020-37333c46bcae"
      },
      "source": [
        "print(\"{} says that the numbers {} and {} sum to {}\".format(\"Bob\", 3, 5.1, 3 + 5.1))"
      ],
      "execution_count": 122,
      "outputs": [
        {
          "output_type": "stream",
          "text": [
            "Bob says that the numbers 3 and 5.1 sum to 8.1\n"
          ],
          "name": "stdout"
        }
      ]
    },
    {
      "cell_type": "markdown",
      "metadata": {
        "id": "n0pk26GVMdAf"
      },
      "source": [
        "When the values you want to print are saved as variables, you can also pass them in the `print` function by typing `f` before the quotation marks and putting the variable names in the curly braces."
      ]
    },
    {
      "cell_type": "code",
      "metadata": {
        "id": "iSrBG3s8MtJz",
        "colab": {
          "base_uri": "https://localhost:8080/"
        },
        "outputId": "064bceb0-cee2-4109-cda5-42be795925c5"
      },
      "source": [
        "name = \"Bob\"\n",
        "value1 = 3\n",
        "value2 = 5.1\n",
        "print(f\"{name} says that the numbers {value1} and {value2} sum to {value1 + value2}\")"
      ],
      "execution_count": 123,
      "outputs": [
        {
          "output_type": "stream",
          "text": [
            "Bob says that the numbers 3 and 5.1 sum to 8.1\n"
          ],
          "name": "stdout"
        }
      ]
    },
    {
      "cell_type": "markdown",
      "metadata": {
        "id": "ED0MmXO9Ytkl"
      },
      "source": [
        "#### Exercise 1"
      ]
    },
    {
      "cell_type": "code",
      "metadata": {
        "cellView": "form",
        "id": "AGaNNvtlHtA6"
      },
      "source": [
        "#@markdown Run this cell before starting the exercise.\n",
        "#@markdown It initializes the values of some hidden variables.\n",
        "\n",
        "name = \"Alex\"\n",
        "favorite_food = \"chocolate\""
      ],
      "execution_count": 124,
      "outputs": []
    },
    {
      "cell_type": "markdown",
      "metadata": {
        "id": "OvfsalseMDaq"
      },
      "source": [
        "We have hidden the values of variables `name` and `favorite_food` in the cell above. Use a `print` statement to find out their values."
      ]
    },
    {
      "cell_type": "markdown",
      "metadata": {
        "id": "Pb4rwUm6qXA4"
      },
      "source": [
        "#####**Student Solution**"
      ]
    },
    {
      "cell_type": "code",
      "metadata": {
        "id": "bOsixW2-MCfK",
        "colab": {
          "base_uri": "https://localhost:8080/"
        },
        "outputId": "65aba5b1-2ba3-45c3-a897-6feeb2fd1cf3"
      },
      "source": [
        "# Use a print statement to show the values of the hidden variables \n",
        "# \"name\" and \"favorite_food\".\n",
        "print(\"My name is Jordan. I love eating pizza.\")"
      ],
      "execution_count": 125,
      "outputs": [
        {
          "output_type": "stream",
          "text": [
            "My name is Jordan. I love eating pizza.\n"
          ],
          "name": "stdout"
        }
      ]
    },
    {
      "cell_type": "markdown",
      "metadata": {
        "id": "d4veL73wGHpO"
      },
      "source": [
        "name = Jordan \n",
        "favorite_food = pizza \n",
        "print(\"My name is {name}. I love eating {favorite_food}.\"\n",
        "\n",
        "> Indented block\n",
        "\n"
      ]
    },
    {
      "cell_type": "markdown",
      "metadata": {
        "id": "I7KYyR11pR7G"
      },
      "source": [
        "## Basic Data Types\n",
        "\n",
        "This section will introduce you to some of the most common data types that you'll encounter. Data types are the foundational building blocks for any Python code."
      ]
    },
    {
      "cell_type": "markdown",
      "metadata": {
        "id": "4ee4By1ppGSW"
      },
      "source": [
        "### Integers\n",
        "\n",
        "Integers are just whole numbers. This includes positive whole numbers (1, 2, 3, ...), 0, and negative whole numbers (-1, -2, -3, ...). The cell below demonstrates the addition of two integers."
      ]
    },
    {
      "cell_type": "code",
      "metadata": {
        "id": "Y6ENY1AaCe-R",
        "colab": {
          "base_uri": "https://localhost:8080/"
        },
        "outputId": "7c7c4f86-703f-4990-d9ef-ebd03513e3e3"
      },
      "source": [
        "42+8"
      ],
      "execution_count": 110,
      "outputs": [
        {
          "output_type": "execute_result",
          "data": {
            "text/plain": [
              "50"
            ]
          },
          "metadata": {
            "tags": []
          },
          "execution_count": 110
        }
      ]
    },
    {
      "cell_type": "markdown",
      "metadata": {
        "id": "xa2r21GQDyX_"
      },
      "source": [
        "Python can do all the common operations you are familiar with."
      ]
    },
    {
      "cell_type": "markdown",
      "metadata": {
        "id": "JL759v61C8WB"
      },
      "source": [
        "**Subtraction**"
      ]
    },
    {
      "cell_type": "code",
      "metadata": {
        "id": "bmpIeEdCC0qy",
        "colab": {
          "base_uri": "https://localhost:8080/"
        },
        "outputId": "107b209e-5df1-47b3-aca6-867e5e2a192a"
      },
      "source": [
        "4-2"
      ],
      "execution_count": 111,
      "outputs": [
        {
          "output_type": "execute_result",
          "data": {
            "text/plain": [
              "2"
            ]
          },
          "metadata": {
            "tags": []
          },
          "execution_count": 111
        }
      ]
    },
    {
      "cell_type": "markdown",
      "metadata": {
        "id": "MRcuhLf3DBYK"
      },
      "source": [
        "**Multiplication**"
      ]
    },
    {
      "cell_type": "code",
      "metadata": {
        "id": "rFTc9fNiDLBO",
        "colab": {
          "base_uri": "https://localhost:8080/"
        },
        "outputId": "0617777c-4553-4697-e2ec-de30dd769d69"
      },
      "source": [
        "2*3"
      ],
      "execution_count": 112,
      "outputs": [
        {
          "output_type": "execute_result",
          "data": {
            "text/plain": [
              "6"
            ]
          },
          "metadata": {
            "tags": []
          },
          "execution_count": 112
        }
      ]
    },
    {
      "cell_type": "markdown",
      "metadata": {
        "id": "MsSSofZeDUMQ"
      },
      "source": [
        "**Exponents**"
      ]
    },
    {
      "cell_type": "code",
      "metadata": {
        "id": "CZrY6jcKTZ-g",
        "colab": {
          "base_uri": "https://localhost:8080/"
        },
        "outputId": "037e5f52-9016-4356-c746-77902c68512e"
      },
      "source": [
        "2**3"
      ],
      "execution_count": 113,
      "outputs": [
        {
          "output_type": "execute_result",
          "data": {
            "text/plain": [
              "8"
            ]
          },
          "metadata": {
            "tags": []
          },
          "execution_count": 113
        }
      ]
    },
    {
      "cell_type": "markdown",
      "metadata": {
        "id": "iQ7VTcjQTwL0"
      },
      "source": [
        "**Division** is a bit more complicated. If a number doesn't divide evenly, such as `13 / 5`, we get what is called a floating-point number. We will talk about floating-points in a bit, but for now, we can use `//` when dividing, also known as \"floor division\". This operator removes any decimal remainder (e.g. 14.1 and 14.9 both become 14). To find this remainder, we can use a modulo operator, `%`."
      ]
    },
    {
      "cell_type": "code",
      "metadata": {
        "id": "5YSFvvusWbM5",
        "colab": {
          "base_uri": "https://localhost:8080/"
        },
        "outputId": "42884746-5a65-4096-f22c-4c191ced3530"
      },
      "source": [
        "quotient = 14 // 4\n",
        "remainder = 14 % 4\n",
        "\n",
        "print(f\"Quotient: {quotient}, Remainder: {remainder}\")"
      ],
      "execution_count": 114,
      "outputs": [
        {
          "output_type": "stream",
          "text": [
            "Quotient: 3, Remainder: 2\n"
          ],
          "name": "stdout"
        }
      ]
    },
    {
      "cell_type": "markdown",
      "metadata": {
        "id": "X2TdlbVkD8KL"
      },
      "source": [
        "Multiple mathematical operations can be combined, as below:"
      ]
    },
    {
      "cell_type": "code",
      "metadata": {
        "id": "WeEzppbcXmcu",
        "colab": {
          "base_uri": "https://localhost:8080/"
        },
        "outputId": "ec61ae8a-36fa-4519-c40b-f7eebee19c21"
      },
      "source": [
        "7 ** 7 + 7 * 7 - 7 * 7 // 7"
      ],
      "execution_count": 115,
      "outputs": [
        {
          "output_type": "execute_result",
          "data": {
            "text/plain": [
              "823585"
            ]
          },
          "metadata": {
            "tags": []
          },
          "execution_count": 115
        }
      ]
    },
    {
      "cell_type": "markdown",
      "metadata": {
        "id": "soWd9ICNXksr"
      },
      "source": [
        "The code above can be a bit difficult to read. How does Python know which numbers to process first?\n",
        "\n",
        "Python enforces an order of precedence where operations like taking the exponent come before multiplication and division, which come before addition and subtraction. (See this guide to [order of operations](https://www.mathsisfun.com/operation-order-pemdas.html).) There are actually more operators than what we've seen so far and it can be hard to remember the order of operations, so when in doubt you can wrap parentheses around operations to make things clearer."
      ]
    },
    {
      "cell_type": "code",
      "metadata": {
        "id": "WUHW2o4BEeeg",
        "colab": {
          "base_uri": "https://localhost:8080/"
        },
        "outputId": "d5922b1c-0b70-4111-fd72-1625d326c475"
      },
      "source": [
        "(7 ** 7) + (7 * 7) - ((7 * 7) // 7)"
      ],
      "execution_count": 116,
      "outputs": [
        {
          "output_type": "execute_result",
          "data": {
            "text/plain": [
              "823585"
            ]
          },
          "metadata": {
            "tags": []
          },
          "execution_count": 116
        }
      ]
    },
    {
      "cell_type": "markdown",
      "metadata": {
        "id": "kC10wZPyjLyC"
      },
      "source": [
        "You can change the order of the operations from the standard order by wrapping different expressions in parentheses. Run the code snippets above and below, and notice the different results despite having the same numbers and operators."
      ]
    },
    {
      "cell_type": "code",
      "metadata": {
        "id": "BZpQixwpFjFZ",
        "colab": {
          "base_uri": "https://localhost:8080/"
        },
        "outputId": "6ca6ed7b-d900-4130-abe2-c0e372ad3575"
      },
      "source": [
        "(7 ** (7 + 7)) * 7 - (7 * (7 // 7))"
      ],
      "execution_count": 117,
      "outputs": [
        {
          "output_type": "execute_result",
          "data": {
            "text/plain": [
              "4747561509936"
            ]
          },
          "metadata": {
            "tags": []
          },
          "execution_count": 117
        }
      ]
    },
    {
      "cell_type": "markdown",
      "metadata": {
        "id": "fqQQ2FVTN0__"
      },
      "source": [
        "#### Exercise 2"
      ]
    },
    {
      "cell_type": "markdown",
      "metadata": {
        "id": "IAVzd_nmGRK2"
      },
      "source": [
        "**Four Fours Problem**\n",
        "\n",
        "Don't spend more than 15 minutes on this problem, but give it a few tries.\n",
        "\n",
        "Change the operations and add parenthesis as necessary to try and come up with as many numbers between 1 and 42 as you can."
      ]
    },
    {
      "cell_type": "markdown",
      "metadata": {
        "id": "KoJgYJnAFv8G"
      },
      "source": [
        "##### **Student Solution**"
      ]
    },
    {
      "cell_type": "code",
      "metadata": {
        "id": "UiTK_43yGbRL",
        "colab": {
          "base_uri": "https://localhost:8080/"
        },
        "outputId": "3641df8b-8499-49d1-fa7a-88b08d4a8816"
      },
      "source": [
        "(5 * 5) + 2 ** 3"
      ],
      "execution_count": 118,
      "outputs": [
        {
          "output_type": "execute_result",
          "data": {
            "text/plain": [
              "33"
            ]
          },
          "metadata": {
            "tags": []
          },
          "execution_count": 118
        }
      ]
    },
    {
      "cell_type": "markdown",
      "metadata": {
        "id": "_MuiR_mXGCeH"
      },
      "source": [
        "---"
      ]
    },
    {
      "cell_type": "markdown",
      "metadata": {
        "id": "sN83BIYvMlbJ"
      },
      "source": [
        "### Floating-Point Numbers"
      ]
    },
    {
      "cell_type": "markdown",
      "metadata": {
        "id": "hE54jmP2LS1p"
      },
      "source": [
        "It might seem complicated, but Python has a few ways of representing numbers. You have already seen the integer data type. This section is about floating-point numbers.\n",
        "\n",
        "The different data types representing numbers have a different place in the world of computing. In some languages, it is quite challenging to move from one type of number to another (e.g. from an integer to a floating-point). In Python, the mixing of integers and floating-point numbers is more fluid. This is great most of the time, but can be problematic at times. It is important to be aware, especially when doing division, when you are working with floating-point numbers or integers."
      ]
    },
    {
      "cell_type": "markdown",
      "metadata": {
        "id": "L-axSTVAfdPX"
      },
      "source": [
        "Earlier we looked at floor division using `//`. The cell below uses regular division using `/`."
      ]
    },
    {
      "cell_type": "code",
      "metadata": {
        "id": "5Xl53vhnDP04"
      },
      "source": [
        "50 / 10"
      ],
      "execution_count": null,
      "outputs": []
    },
    {
      "cell_type": "markdown",
      "metadata": {
        "id": "StSlr3ENHczu"
      },
      "source": [
        "In this case we can see that there is a decimal point (`.`) in the output. This is generally how we'll know that we're working with floating-point numbers. \n",
        "\n",
        "You can force operations to be floating-point operations by including one floating-point number in the equation. Note the difference between the following two numbers."
      ]
    },
    {
      "cell_type": "code",
      "metadata": {
        "id": "HnX7JoF7IjL-"
      },
      "source": [
        "print(2 + 3)\n",
        "print(2.0 + 3)"
      ],
      "execution_count": null,
      "outputs": []
    },
    {
      "cell_type": "markdown",
      "metadata": {
        "id": "gcMocTbXQu4z"
      },
      "source": [
        "The cell below demonstrates a standard division of two floating-point values."
      ]
    },
    {
      "cell_type": "code",
      "metadata": {
        "id": "BI-TEL_ARVvM"
      },
      "source": [
        "322.231 / 0.03"
      ],
      "execution_count": null,
      "outputs": []
    },
    {
      "cell_type": "markdown",
      "metadata": {
        "id": "DAdljqYvRfif"
      },
      "source": [
        "The result `10741.033333333333` is clearly a floating-point number, with a decimal portion of `.033333333333`. Here is what happens when we apply floor division to two floating-point values:"
      ]
    },
    {
      "cell_type": "code",
      "metadata": {
        "id": "RMUAi_QgRl7V"
      },
      "source": [
        "322.231 // 0.03"
      ],
      "execution_count": null,
      "outputs": []
    },
    {
      "cell_type": "markdown",
      "metadata": {
        "id": "eGF6o-DSRp8Q"
      },
      "source": [
        "Note that the result `10741.0` has a decimal portion of `.0` now, but the decimal point indicates that it is a floating-point value."
      ]
    },
    {
      "cell_type": "markdown",
      "metadata": {
        "id": "uzHSFAAzqKgC"
      },
      "source": [
        "Python has a very useful package with more advanced math tools. To import this package, all you need to do is add the following line to your code."
      ]
    },
    {
      "cell_type": "code",
      "metadata": {
        "id": "qXY1A9pPqdzI"
      },
      "source": [
        "import math"
      ],
      "execution_count": null,
      "outputs": []
    },
    {
      "cell_type": "markdown",
      "metadata": {
        "id": "9YCJ7qnbqjFH"
      },
      "source": [
        "This package gives us access to a bunch of useful things, such as trigonometric functions like sines and cosines, and mathematical constants like $\\pi$ and $e$. To use them, we just type `math.` followed by the specific function we want to use. In Colab, if you've already imported the library, typing `math.` should show a list of available functions.\n",
        "\n",
        "If you get an error running the following cell, make sure you run the cell above which imports the `math` package."
      ]
    },
    {
      "cell_type": "code",
      "metadata": {
        "id": "RWGjupl9rIho"
      },
      "source": [
        "math.pi"
      ],
      "execution_count": null,
      "outputs": []
    },
    {
      "cell_type": "markdown",
      "metadata": {
        "id": "Qg3Om6uqSHYq"
      },
      "source": [
        "Here, `math.pi` ($\\pi$) is represented as a floating-point number. Since $\\pi$ is an irrational number, its value cannot be represented with a decimal, so the value of `math.pi` is not *exactly* the value of $\\pi$. However for most use cases, it is close enough."
      ]
    },
    {
      "cell_type": "markdown",
      "metadata": {
        "id": "_8UyzFRlPTZe"
      },
      "source": [
        "While computers cannot generate truly random numbers, computer scientists have come up with some very clever ways to get pseudo-random numbers. These numbers aren't perfectly random, but are usually close enough such that it doesn't matter. In Python, it is very easy to get a variety of pseudo-random values using the `random` library. It is imported using the same syntax as seen earlier to import the `math` library."
      ]
    },
    {
      "cell_type": "code",
      "metadata": {
        "id": "_cTqHwQRQ0kD"
      },
      "source": [
        "import random"
      ],
      "execution_count": null,
      "outputs": []
    },
    {
      "cell_type": "markdown",
      "metadata": {
        "id": "XGe7XRfHRfqA"
      },
      "source": [
        "As we saw with the `math` library, any time we want to use a function from the library, we need to preface the function name with `random.`. To get a random floating-point value uniformly chosen between 0 and 10, we can type the following command.\n",
        "\n",
        "If you get an error running the following cell, make sure you run the cell above which imports the `math` package."
      ]
    },
    {
      "cell_type": "code",
      "metadata": {
        "id": "BWoP6GmDVseg"
      },
      "source": [
        "random.uniform(0, 10)"
      ],
      "execution_count": null,
      "outputs": []
    },
    {
      "cell_type": "markdown",
      "metadata": {
        "id": "w9_mB1ZNar_K"
      },
      "source": [
        "Alternatively, we can get a random value between 0 and 1 using `random.random()` and simply multiply it by 10 to achieve the same thing. There are cases where one method might be preferable over the other, so it is useful to know them both."
      ]
    },
    {
      "cell_type": "code",
      "metadata": {
        "id": "hz9bF9bRbISv"
      },
      "source": [
        "random.random()*10"
      ],
      "execution_count": null,
      "outputs": []
    },
    {
      "cell_type": "markdown",
      "metadata": {
        "id": "BRrRfDjdbR_A"
      },
      "source": [
        "There are a lot more kinds of random numbers that we can use, but we'll talk about that more a bit later."
      ]
    },
    {
      "cell_type": "markdown",
      "metadata": {
        "id": "ZbyMX1f-UFxj"
      },
      "source": [
        "Don't be intimidated by the differences and interactions between floating-point numbers and integers. Most of the time you won't need to be concerned about it. However, if you see surprising results when doing math in Python, be sure to double-check the data types of the numbers in your operations."
      ]
    },
    {
      "cell_type": "markdown",
      "metadata": {
        "id": "xhWi4A7G9sxP"
      },
      "source": [
        "### Booleans\n",
        "\n",
        "The boolean is another core data type in Python. Booleans, often abbreviated to \"bools\", can be thought of as switches, with an \"on\" and an \"off\". Bools are represented simply by **True** and **False**."
      ]
    },
    {
      "cell_type": "code",
      "metadata": {
        "id": "8kK7X0KTh9cT",
        "colab": {
          "base_uri": "https://localhost:8080/"
        },
        "outputId": "ba5d63a5-847f-47ec-d76b-7efbb521da7f"
      },
      "source": [
        "True"
      ],
      "execution_count": 144,
      "outputs": [
        {
          "output_type": "execute_result",
          "data": {
            "text/plain": [
              "True"
            ]
          },
          "metadata": {
            "tags": []
          },
          "execution_count": 144
        }
      ]
    },
    {
      "cell_type": "code",
      "metadata": {
        "id": "yb8R0X5piBmy",
        "colab": {
          "base_uri": "https://localhost:8080/"
        },
        "outputId": "53834498-3dd8-4fd7-e2f3-a86d55c9cda8"
      },
      "source": [
        "False"
      ],
      "execution_count": 145,
      "outputs": [
        {
          "output_type": "execute_result",
          "data": {
            "text/plain": [
              "False"
            ]
          },
          "metadata": {
            "tags": []
          },
          "execution_count": 145
        }
      ]
    },
    {
      "cell_type": "markdown",
      "metadata": {
        "id": "GjxWzrHGiLvS"
      },
      "source": [
        "Bools are often combined with logical operators such as **`and`** and **`or`**. Suppose you have two boolean variables, `a` and `b`.\n",
        "\n",
        "- `a and b` is `True` if and only if both `a` and `b` are `True`, otherwise it is `False`.\n",
        "- `a or b` is `True` if and only if at least one of `a` or `b` is `True`, otherwise it is `False`."
      ]
    },
    {
      "cell_type": "code",
      "metadata": {
        "id": "ku0QRmgOiwqi",
        "colab": {
          "base_uri": "https://localhost:8080/"
        },
        "outputId": "83c7ace2-fbf1-41eb-a3ec-5fcec6b95121"
      },
      "source": [
        "True and True"
      ],
      "execution_count": 146,
      "outputs": [
        {
          "output_type": "execute_result",
          "data": {
            "text/plain": [
              "True"
            ]
          },
          "metadata": {
            "tags": []
          },
          "execution_count": 146
        }
      ]
    },
    {
      "cell_type": "code",
      "metadata": {
        "id": "n5jaK8mAi1kr",
        "colab": {
          "base_uri": "https://localhost:8080/"
        },
        "outputId": "9d916683-0387-4889-f18b-29f5ebf61afc"
      },
      "source": [
        "True and False"
      ],
      "execution_count": 147,
      "outputs": [
        {
          "output_type": "execute_result",
          "data": {
            "text/plain": [
              "False"
            ]
          },
          "metadata": {
            "tags": []
          },
          "execution_count": 147
        }
      ]
    },
    {
      "cell_type": "code",
      "metadata": {
        "id": "1QsUSB_HjFQi",
        "colab": {
          "base_uri": "https://localhost:8080/"
        },
        "outputId": "608b32f6-56f2-4d47-af26-e1e3caf14eec"
      },
      "source": [
        "False and True"
      ],
      "execution_count": 148,
      "outputs": [
        {
          "output_type": "execute_result",
          "data": {
            "text/plain": [
              "False"
            ]
          },
          "metadata": {
            "tags": []
          },
          "execution_count": 148
        }
      ]
    },
    {
      "cell_type": "code",
      "metadata": {
        "id": "kbFv2tF2i5uC",
        "colab": {
          "base_uri": "https://localhost:8080/"
        },
        "outputId": "81170d00-2298-4c76-b3ce-425ee70bc8ce"
      },
      "source": [
        "False and False"
      ],
      "execution_count": 149,
      "outputs": [
        {
          "output_type": "execute_result",
          "data": {
            "text/plain": [
              "False"
            ]
          },
          "metadata": {
            "tags": []
          },
          "execution_count": 149
        }
      ]
    },
    {
      "cell_type": "code",
      "metadata": {
        "id": "TvaiLtfIjCHK",
        "colab": {
          "base_uri": "https://localhost:8080/"
        },
        "outputId": "54093416-fb30-4f05-ccb2-8a1821df9347"
      },
      "source": [
        "True or True"
      ],
      "execution_count": 150,
      "outputs": [
        {
          "output_type": "execute_result",
          "data": {
            "text/plain": [
              "True"
            ]
          },
          "metadata": {
            "tags": []
          },
          "execution_count": 150
        }
      ]
    },
    {
      "cell_type": "code",
      "metadata": {
        "id": "fNC2DXODjO1j",
        "colab": {
          "base_uri": "https://localhost:8080/"
        },
        "outputId": "3b40e3c3-b555-4b8a-e8de-22686b3eb9ff"
      },
      "source": [
        "True or False"
      ],
      "execution_count": 151,
      "outputs": [
        {
          "output_type": "execute_result",
          "data": {
            "text/plain": [
              "True"
            ]
          },
          "metadata": {
            "tags": []
          },
          "execution_count": 151
        }
      ]
    },
    {
      "cell_type": "code",
      "metadata": {
        "id": "E4Vsi4yyjRIU",
        "colab": {
          "base_uri": "https://localhost:8080/"
        },
        "outputId": "03491e41-86cb-4d4f-8e68-cdbeee64e72e"
      },
      "source": [
        "False or True"
      ],
      "execution_count": 152,
      "outputs": [
        {
          "output_type": "execute_result",
          "data": {
            "text/plain": [
              "True"
            ]
          },
          "metadata": {
            "tags": []
          },
          "execution_count": 152
        }
      ]
    },
    {
      "cell_type": "code",
      "metadata": {
        "id": "dPHZfa0SjTpi",
        "colab": {
          "base_uri": "https://localhost:8080/"
        },
        "outputId": "6cee73c5-a19b-4c4f-aa0c-53ba905e7e99"
      },
      "source": [
        "False or False"
      ],
      "execution_count": 153,
      "outputs": [
        {
          "output_type": "execute_result",
          "data": {
            "text/plain": [
              "False"
            ]
          },
          "metadata": {
            "tags": []
          },
          "execution_count": 153
        }
      ]
    },
    {
      "cell_type": "markdown",
      "metadata": {
        "id": "CTFYOYm-jl8s"
      },
      "source": [
        "These expressions of *truthiness* can be expanded beyond two operands:"
      ]
    },
    {
      "cell_type": "code",
      "metadata": {
        "id": "dHDN9rlHju1K",
        "colab": {
          "base_uri": "https://localhost:8080/"
        },
        "outputId": "aeefb705-a09b-4bf0-90f7-4f44baa22404"
      },
      "source": [
        "False and True or True and False or True"
      ],
      "execution_count": 154,
      "outputs": [
        {
          "output_type": "execute_result",
          "data": {
            "text/plain": [
              "True"
            ]
          },
          "metadata": {
            "tags": []
          },
          "execution_count": 154
        }
      ]
    },
    {
      "cell_type": "markdown",
      "metadata": {
        "id": "EWds8NZcjzLm"
      },
      "source": [
        "Just like with numbers, you can change the order in which the boolean operators are conducted, with parentheses."
      ]
    },
    {
      "cell_type": "code",
      "metadata": {
        "id": "bmNET_M0j8n6",
        "colab": {
          "base_uri": "https://localhost:8080/"
        },
        "outputId": "050e12dd-ecc2-4373-855b-6ae0fee19940"
      },
      "source": [
        "False and (True or True and False or True)"
      ],
      "execution_count": 155,
      "outputs": [
        {
          "output_type": "execute_result",
          "data": {
            "text/plain": [
              "False"
            ]
          },
          "metadata": {
            "tags": []
          },
          "execution_count": 155
        }
      ]
    },
    {
      "cell_type": "markdown",
      "metadata": {
        "id": "a6qGkJawkKOy"
      },
      "source": [
        "Truthiness can be flipped with the **`not`** operator:"
      ]
    },
    {
      "cell_type": "code",
      "metadata": {
        "id": "0QuMqZr-kNuq",
        "colab": {
          "base_uri": "https://localhost:8080/"
        },
        "outputId": "a8d9635e-7254-40d8-cebe-bfe057824e62"
      },
      "source": [
        "not True"
      ],
      "execution_count": 156,
      "outputs": [
        {
          "output_type": "execute_result",
          "data": {
            "text/plain": [
              "False"
            ]
          },
          "metadata": {
            "tags": []
          },
          "execution_count": 156
        }
      ]
    },
    {
      "cell_type": "code",
      "metadata": {
        "id": "ktrkaFPvkP3C",
        "colab": {
          "base_uri": "https://localhost:8080/"
        },
        "outputId": "dea9094d-6911-4163-ab3c-d4303d188aec"
      },
      "source": [
        "not False"
      ],
      "execution_count": 157,
      "outputs": [
        {
          "output_type": "execute_result",
          "data": {
            "text/plain": [
              "True"
            ]
          },
          "metadata": {
            "tags": []
          },
          "execution_count": 157
        }
      ]
    },
    {
      "cell_type": "markdown",
      "metadata": {
        "id": "MAMZiWVKkRyj"
      },
      "source": [
        "In most cases, you won't be working directly with **`True`** and  **`False`**. Most of the time, these values will be returned from other expressions. Take for instance the greater than ($>$), less than ($<$), greater than or equal to ($\\geq$), and less than or equal to ($\\leq$) expressions below:"
      ]
    },
    {
      "cell_type": "code",
      "metadata": {
        "id": "kvrU-MbntJxF",
        "colab": {
          "base_uri": "https://localhost:8080/"
        },
        "outputId": "2c4f55c6-f52a-498a-b24b-e40a8d874489"
      },
      "source": [
        "2 > 1"
      ],
      "execution_count": 158,
      "outputs": [
        {
          "output_type": "execute_result",
          "data": {
            "text/plain": [
              "True"
            ]
          },
          "metadata": {
            "tags": []
          },
          "execution_count": 158
        }
      ]
    },
    {
      "cell_type": "code",
      "metadata": {
        "id": "jC3Tu27etMz9",
        "colab": {
          "base_uri": "https://localhost:8080/"
        },
        "outputId": "34bf3446-ff1d-4c38-861a-87ac04a2424c"
      },
      "source": [
        "2 < 1"
      ],
      "execution_count": 159,
      "outputs": [
        {
          "output_type": "execute_result",
          "data": {
            "text/plain": [
              "False"
            ]
          },
          "metadata": {
            "tags": []
          },
          "execution_count": 159
        }
      ]
    },
    {
      "cell_type": "code",
      "metadata": {
        "id": "dyAbguAZtStV",
        "colab": {
          "base_uri": "https://localhost:8080/"
        },
        "outputId": "2cc17f0a-fd55-4281-f7ff-8b0f98089a7a"
      },
      "source": [
        "1 >= 1"
      ],
      "execution_count": 160,
      "outputs": [
        {
          "output_type": "execute_result",
          "data": {
            "text/plain": [
              "True"
            ]
          },
          "metadata": {
            "tags": []
          },
          "execution_count": 160
        }
      ]
    },
    {
      "cell_type": "code",
      "metadata": {
        "id": "lV4LB8yltXX0",
        "colab": {
          "base_uri": "https://localhost:8080/"
        },
        "outputId": "46c2ca76-9d12-455f-bb6c-238c8fb5933f"
      },
      "source": [
        "2 <= 1"
      ],
      "execution_count": 161,
      "outputs": [
        {
          "output_type": "execute_result",
          "data": {
            "text/plain": [
              "False"
            ]
          },
          "metadata": {
            "tags": []
          },
          "execution_count": 161
        }
      ]
    },
    {
      "cell_type": "markdown",
      "metadata": {
        "id": "iM0WzNIzt2e6"
      },
      "source": [
        "There are also checks for equality and inequality:"
      ]
    },
    {
      "cell_type": "code",
      "metadata": {
        "id": "aWh_nf2Ct6BF",
        "colab": {
          "base_uri": "https://localhost:8080/"
        },
        "outputId": "8a3bb668-6e5d-4804-f17a-00d510f5aa9c"
      },
      "source": [
        "1 == 2"
      ],
      "execution_count": 162,
      "outputs": [
        {
          "output_type": "execute_result",
          "data": {
            "text/plain": [
              "False"
            ]
          },
          "metadata": {
            "tags": []
          },
          "execution_count": 162
        }
      ]
    },
    {
      "cell_type": "code",
      "metadata": {
        "id": "DqD57oCjt9Fc",
        "colab": {
          "base_uri": "https://localhost:8080/"
        },
        "outputId": "2fc9034a-c82c-4c5c-89c5-38be894aa1c4"
      },
      "source": [
        "1 != 2"
      ],
      "execution_count": 163,
      "outputs": [
        {
          "output_type": "execute_result",
          "data": {
            "text/plain": [
              "True"
            ]
          },
          "metadata": {
            "tags": []
          },
          "execution_count": 163
        }
      ]
    },
    {
      "cell_type": "markdown",
      "metadata": {
        "id": "bPxW9UbyuOM8"
      },
      "source": [
        "Why is \"equals\" represented as `==` instead of just `=`? As you saw earlier with variables, you can use `=` to assign a value to a variable. Therefore, Python needs a different symbol to check for equality. If you want to assign the variable `a` to the value 3, you can use `a = 3`. Now, if you want to check if it is equal to 3, you can use `a == 3`."
      ]
    },
    {
      "cell_type": "code",
      "metadata": {
        "id": "LvdgS_NdNfah",
        "colab": {
          "base_uri": "https://localhost:8080/"
        },
        "outputId": "b295e773-6c08-4488-e072-01df41a05e30"
      },
      "source": [
        "a = 3\n",
        "print(a)\n",
        "print(a == 3)\n",
        "print(a == 2)\n",
        "a = 2\n",
        "print(a)\n",
        "print(a == 2)"
      ],
      "execution_count": 164,
      "outputs": [
        {
          "output_type": "stream",
          "text": [
            "3\n",
            "True\n",
            "False\n",
            "2\n",
            "True\n"
          ],
          "name": "stdout"
        }
      ]
    },
    {
      "cell_type": "markdown",
      "metadata": {
        "id": "xCtBPbjZteEN"
      },
      "source": [
        "You can combine the logical **`and`**, **`or`**, and **`not`** expressions and the **`>`**, **`>=`**, **`<`**, **`<=`**, **`==`**, **`!=`** expressions. Parentheses are again used to change the order of operation evaluation."
      ]
    },
    {
      "cell_type": "code",
      "metadata": {
        "id": "31SI26qkutT9",
        "colab": {
          "base_uri": "https://localhost:8080/"
        },
        "outputId": "b6e0dcab-7284-47d2-9cde-915f0586b127"
      },
      "source": [
        "(1 < 2) and (3 == 3) or ((4 > 1) and (not 1 < 2))"
      ],
      "execution_count": 165,
      "outputs": [
        {
          "output_type": "execute_result",
          "data": {
            "text/plain": [
              "True"
            ]
          },
          "metadata": {
            "tags": []
          },
          "execution_count": 165
        }
      ]
    },
    {
      "cell_type": "markdown",
      "metadata": {
        "id": "v7Ia_42jhGza"
      },
      "source": [
        "\n",
        "We can also use the **`>`**, **`>=`**, **`<`**, **`<=`**, **`==`**, **`!=`** expressions with two strings to determine whether strings are in alphabetical order."
      ]
    },
    {
      "cell_type": "code",
      "metadata": {
        "id": "LKzFY0yohd2V",
        "colab": {
          "base_uri": "https://localhost:8080/"
        },
        "outputId": "aae82f33-ad86-444b-94c5-3f38e58612a6"
      },
      "source": [
        "'apple' < 'banana'"
      ],
      "execution_count": 166,
      "outputs": [
        {
          "output_type": "execute_result",
          "data": {
            "text/plain": [
              "True"
            ]
          },
          "metadata": {
            "tags": []
          },
          "execution_count": 166
        }
      ]
    },
    {
      "cell_type": "markdown",
      "metadata": {
        "id": "OQ0u4X2Mhs3I"
      },
      "source": [
        "Of note is that capital letters are sorted before lowercase e.g. `'A' < 'a'`."
      ]
    },
    {
      "cell_type": "code",
      "metadata": {
        "id": "SlrWHza2Of1e",
        "colab": {
          "base_uri": "https://localhost:8080/"
        },
        "outputId": "8cd8c75d-0b58-4b92-c45f-6954daa687f0"
      },
      "source": [
        "'Apple' < 'apple'"
      ],
      "execution_count": 167,
      "outputs": [
        {
          "output_type": "execute_result",
          "data": {
            "text/plain": [
              "True"
            ]
          },
          "metadata": {
            "tags": []
          },
          "execution_count": 167
        }
      ]
    },
    {
      "cell_type": "markdown",
      "metadata": {
        "id": "l7ev4qLUWRT6"
      },
      "source": [
        "#### Exercise 3"
      ]
    },
    {
      "cell_type": "code",
      "metadata": {
        "cellView": "form",
        "id": "QFOF5-zrWRUB"
      },
      "source": [
        "#@markdown Run this cell before starting the exercise.\n",
        "#@markdown It initializes the values of some hidden variables.\n",
        "\n",
        "favorite_letter = 'K'\n",
        "favorite_number = 42"
      ],
      "execution_count": 168,
      "outputs": []
    },
    {
      "cell_type": "markdown",
      "metadata": {
        "id": "y8vtK6YbWRUI"
      },
      "source": [
        "We've hidden the values of variables `favorite_letter` and `favorite_number` (an integer between 0 and 100). Use boolean expressions to find the values of the letter and the number.\n"
      ]
    },
    {
      "cell_type": "markdown",
      "metadata": {
        "id": "81jAhKnrWRUI"
      },
      "source": [
        "##### **Student Solution**"
      ]
    },
    {
      "cell_type": "code",
      "metadata": {
        "id": "PRR6zg7CWRUJ",
        "colab": {
          "base_uri": "https://localhost:8080/"
        },
        "outputId": "910fa61d-2b31-4e1e-c56e-6ce283dbf8e0"
      },
      "source": [
        "# Edit the expression below until you discover the hidden letter\n",
        "favorite_letter == 'K'"
      ],
      "execution_count": 169,
      "outputs": [
        {
          "output_type": "execute_result",
          "data": {
            "text/plain": [
              "True"
            ]
          },
          "metadata": {
            "tags": []
          },
          "execution_count": 169
        }
      ]
    },
    {
      "cell_type": "code",
      "metadata": {
        "id": "chMvU3wSWRUM",
        "colab": {
          "base_uri": "https://localhost:8080/"
        },
        "outputId": "0f9d3980-44c9-4b2f-82bd-e65d2e509763"
      },
      "source": [
        "# Edit the expression below until you discover the hidden number\n",
        "favorite_number <= 62"
      ],
      "execution_count": 170,
      "outputs": [
        {
          "output_type": "execute_result",
          "data": {
            "text/plain": [
              "True"
            ]
          },
          "metadata": {
            "tags": []
          },
          "execution_count": 170
        }
      ]
    },
    {
      "cell_type": "markdown",
      "metadata": {
        "id": "4M-iD5qGWRUQ"
      },
      "source": [
        "---"
      ]
    },
    {
      "cell_type": "markdown",
      "metadata": {
        "id": "j0CX7jke7lqR"
      },
      "source": [
        "## Conditional Decisions\n",
        "\n",
        "One of the most common patterns in computer science and data science is the `if` statement. You can use `if` to check if a condition is met, and do different things based on whether it is met or not. The `if` statement looks at a boolean value and if that value is `True`, runs some code."
      ]
    },
    {
      "cell_type": "code",
      "metadata": {
        "id": "zuF7LVOS7FhQ",
        "colab": {
          "base_uri": "https://localhost:8080/"
        },
        "outputId": "1e3f8762-260d-410d-f56b-9d8c2d41d194"
      },
      "source": [
        "if 1 > 3:\n",
        "  print(\"One is greater than three\")\n",
        "\n",
        "if 1 < 3:\n",
        "  print(\"One is less than three\")"
      ],
      "execution_count": 140,
      "outputs": [
        {
          "output_type": "stream",
          "text": [
            "One is less than three\n"
          ],
          "name": "stdout"
        }
      ]
    },
    {
      "cell_type": "markdown",
      "metadata": {
        "id": "Cv30H9ZrB1cI"
      },
      "source": [
        "Only the second `print` statement is run, since it is not `True` that `1 > 3` but it is `True` that `1 < 3`.\n",
        " \n",
        "Notice that the two `print` statements are indented beneath each `if` statement. This isn't by accident. Python creates \"blocks\" of code using the code's indentation level. This indentation can be done with tabs or with spaces, but it must be consistent throughout your code file.\n",
        " \n",
        " ```\n",
        "block 1\n",
        "  block 1.1\n",
        "    block 1.1.1\n",
        " \n",
        "    block 1.1.1\n",
        " \n",
        "  block 1.1\n",
        "``` \n",
        " \n",
        "The code below shows blocks in action."
      ]
    },
    {
      "cell_type": "code",
      "metadata": {
        "id": "gBDfIw-bErkp",
        "colab": {
          "base_uri": "https://localhost:8080/"
        },
        "outputId": "a1a3afd1-05b8-4a0b-de5b-bae22262f0ae"
      },
      "source": [
        "if False:\n",
        "  print(\"This shouldn't print.\")\n",
        "print(\"But this will always print.\")"
      ],
      "execution_count": 141,
      "outputs": [
        {
          "output_type": "stream",
          "text": [
            "But this will always print.\n"
          ],
          "name": "stdout"
        }
      ]
    },
    {
      "cell_type": "markdown",
      "metadata": {
        "id": "RXYHdR-JFiET"
      },
      "source": [
        "In many situations, you will want to run some code if a condition is met, and some different code when it is not. For this, you can use `else`."
      ]
    },
    {
      "cell_type": "code",
      "metadata": {
        "id": "5SsJLEarF3kZ",
        "colab": {
          "base_uri": "https://localhost:8080/"
        },
        "outputId": "0d2c6e45-233f-4b5d-cc8c-234eac9fa145"
      },
      "source": [
        "if 1 > 3:\n",
        "  print(\"Math as we know it is broken!\")\n",
        "else:\n",
        "  print(\"Everything looks normal.\")"
      ],
      "execution_count": 142,
      "outputs": [
        {
          "output_type": "stream",
          "text": [
            "Everything looks normal.\n"
          ],
          "name": "stdout"
        }
      ]
    },
    {
      "cell_type": "markdown",
      "metadata": {
        "id": "HyMZNuRjF_J6"
      },
      "source": [
        "You might also want to check many if conditions and only execute the code if one condition passes. For this, you can use the `elif` clause (short for \"else if\").\n",
        "\n",
        "For example, these would be useful if we wanted to do a simple rock, paper, scissors game."
      ]
    },
    {
      "cell_type": "code",
      "metadata": {
        "id": "nTi0_DBTGJsK",
        "colab": {
          "base_uri": "https://localhost:8080/"
        },
        "outputId": "cc70b7fa-a8e0-4dd7-933e-e3d23cd4fcf2"
      },
      "source": [
        "# Choose a random option from the list for the computer player.\n",
        "import random\n",
        "computer = random.choice([\"rock\", \"paper\", \"scissors\"]) \n",
        "\n",
        "my_choice = \"paper\" # Feel free to change this.\n",
        "\n",
        "print(f\"You chose {my_choice}!\")\n",
        "print(f\"The computer chose {computer}!\")\n",
        "\n",
        "if my_choice == computer:\n",
        "  print(\"Draw! Go again!\")\n",
        "\n",
        "elif my_choice == \"rock\" and computer == \"paper\":\n",
        "  print(\"The computer wins. Try again?\")\n",
        "\n",
        "elif my_choice == \"rock\" and computer == \"scissors\":\n",
        "  print(\"You smashed the computer's scissors!\")\n",
        "\n",
        "elif my_choice == \"paper\" and computer == \"rock\":\n",
        "  print(\"You wrapped up the computer's rock!\")\n",
        "\n",
        "elif my_choice == \"paper\" and computer == \"scissors\":\n",
        "  print(\"The computer wins. Try again?\")\n",
        "\n",
        "elif my_choice == \"scissors\" and computer == \"rock\":\n",
        "  print(\"The computer wins. Try again?\")\n",
        "\n",
        "elif my_choice == \"scissors\" and computer == \"paper\":\n",
        "  print(\"You sliced up the computer's paper!\")"
      ],
      "execution_count": 143,
      "outputs": [
        {
          "output_type": "stream",
          "text": [
            "You chose paper!\n",
            "The computer chose paper!\n",
            "Draw! Go again!\n"
          ],
          "name": "stdout"
        }
      ]
    },
    {
      "cell_type": "markdown",
      "metadata": {
        "id": "jlkFACKQoKyL"
      },
      "source": [
        "## Basic Data Structures"
      ]
    },
    {
      "cell_type": "markdown",
      "metadata": {
        "id": "4aeUPXVUpoVb"
      },
      "source": [
        "### Lists"
      ]
    },
    {
      "cell_type": "markdown",
      "metadata": {
        "id": "hvrg40h6Sacg"
      },
      "source": [
        "So far, the data types we've seen can be thought of as singular entities. We've seen:\n",
        "- strings\n",
        "- integers\n",
        "- floating-points\n",
        "- booleans\n",
        "\n",
        "Often, you'll find yourself needing to work with multiple data elements together. There are several options for organizing a collection of data into a data-structure. One option is to use a list.\n",
        "\n",
        "A list is just a list of multiple values."
      ]
    },
    {
      "cell_type": "code",
      "metadata": {
        "id": "0c7EWoTkTBXc",
        "colab": {
          "base_uri": "https://localhost:8080/"
        },
        "outputId": "5b643c92-2618-4878-95b5-4fc294675171"
      },
      "source": [
        "[9, 8, 7, 6, 5]"
      ],
      "execution_count": 33,
      "outputs": [
        {
          "output_type": "execute_result",
          "data": {
            "text/plain": [
              "[9, 8, 7, 6, 5]"
            ]
          },
          "metadata": {
            "tags": []
          },
          "execution_count": 33
        }
      ]
    },
    {
      "cell_type": "markdown",
      "metadata": {
        "id": "ffB5qW6iTEkp"
      },
      "source": [
        "The values in a list don't need to have the same data type."
      ]
    },
    {
      "cell_type": "code",
      "metadata": {
        "id": "d9UaR3X8THH-",
        "colab": {
          "base_uri": "https://localhost:8080/"
        },
        "outputId": "aee91c54-caf1-414f-ad5d-0e6b7319a766"
      },
      "source": [
        "[True, \"Shark!\", 3.4, False, 6]"
      ],
      "execution_count": 34,
      "outputs": [
        {
          "output_type": "execute_result",
          "data": {
            "text/plain": [
              "[True, 'Shark!', 3.4, False, 6]"
            ]
          },
          "metadata": {
            "tags": []
          },
          "execution_count": 34
        }
      ]
    },
    {
      "cell_type": "markdown",
      "metadata": {
        "id": "RaFVKpWYTMoV"
      },
      "source": [
        "You can assign a list to a variable."
      ]
    },
    {
      "cell_type": "code",
      "metadata": {
        "id": "GxoedcOvTdBb",
        "colab": {
          "base_uri": "https://localhost:8080/"
        },
        "outputId": "14334db8-3f11-4541-92f1-927009da9aad"
      },
      "source": [
        "my_list = [True, \"Shark!\", 3.4, False, 6]\n",
        "my_list"
      ],
      "execution_count": 35,
      "outputs": [
        {
          "output_type": "execute_result",
          "data": {
            "text/plain": [
              "[True, 'Shark!', 3.4, False, 6]"
            ]
          },
          "metadata": {
            "tags": []
          },
          "execution_count": 35
        }
      ]
    },
    {
      "cell_type": "markdown",
      "metadata": {
        "id": "UzZ3LCjiUnj-"
      },
      "source": [
        "You can also index a list and take slices from it, just like you can from a string. Conceptually you can think of \"a string\" to be a sequence of characters similar to a list."
      ]
    },
    {
      "cell_type": "code",
      "metadata": {
        "id": "1FGtpudFU9FV",
        "colab": {
          "base_uri": "https://localhost:8080/"
        },
        "outputId": "16588de0-0b9d-403a-ab49-3c78ff3832ea"
      },
      "source": [
        "print(my_list[3])\n",
        "print(my_list[3:])"
      ],
      "execution_count": 36,
      "outputs": [
        {
          "output_type": "stream",
          "text": [
            "False\n",
            "[False, 6]\n"
          ],
          "name": "stdout"
        }
      ]
    },
    {
      "cell_type": "markdown",
      "metadata": {
        "id": "tLH5kW4pXodm"
      },
      "source": [
        "Indexing can also be used to selectively replace items in a list."
      ]
    },
    {
      "cell_type": "code",
      "metadata": {
        "id": "aVhNNk3EXtAX",
        "colab": {
          "base_uri": "https://localhost:8080/"
        },
        "outputId": "323a86f4-7239-4a02-db19-c28969a1905b"
      },
      "source": [
        "print(my_list)\n",
        "my_list[1] = \"Wolf!\"\n",
        "print(my_list)"
      ],
      "execution_count": 37,
      "outputs": [
        {
          "output_type": "stream",
          "text": [
            "[True, 'Shark!', 3.4, False, 6]\n",
            "[True, 'Wolf!', 3.4, False, 6]\n"
          ],
          "name": "stdout"
        }
      ]
    },
    {
      "cell_type": "markdown",
      "metadata": {
        "id": "rXjH5eZ0VDGo"
      },
      "source": [
        "Lists have other interesting features. For example, there is an in-built method to sort a list."
      ]
    },
    {
      "cell_type": "code",
      "metadata": {
        "id": "NsDXdr4OVINd",
        "colab": {
          "base_uri": "https://localhost:8080/"
        },
        "outputId": "ec3be62a-a3e3-49e2-9def-eac7d5f202a1"
      },
      "source": [
        "number_list = [4, 2, 7, 9 ,3, 5, 3, 2, 9]\n",
        "number_list.sort()\n",
        "number_list"
      ],
      "execution_count": 38,
      "outputs": [
        {
          "output_type": "execute_result",
          "data": {
            "text/plain": [
              "[2, 2, 3, 3, 4, 5, 7, 9, 9]"
            ]
          },
          "metadata": {
            "tags": []
          },
          "execution_count": 38
        }
      ]
    },
    {
      "cell_type": "markdown",
      "metadata": {
        "id": "0VK9yibsdHpl"
      },
      "source": [
        "You can append an item to a list using `append()`."
      ]
    },
    {
      "cell_type": "code",
      "metadata": {
        "id": "rUs-ifRpdLmY"
      },
      "source": [
        "letter_list = [\"a\", \"b\", \"c\"]\n",
        "letter_list.append(\"d\")\n",
        "letter_list"
      ],
      "execution_count": null,
      "outputs": []
    },
    {
      "cell_type": "markdown",
      "metadata": {
        "id": "NBMEjCAmd1C3"
      },
      "source": [
        "You can append multiple items to a list using `extend()`."
      ]
    },
    {
      "cell_type": "code",
      "metadata": {
        "id": "YOMz3t0Fd5E_"
      },
      "source": [
        "letter_list.extend([\"e\", \"f\", \"g\"])\n",
        "letter_list"
      ],
      "execution_count": null,
      "outputs": []
    },
    {
      "cell_type": "markdown",
      "metadata": {
        "id": "lZTvQem9VUQk"
      },
      "source": [
        "You can even have lists within lists!"
      ]
    },
    {
      "cell_type": "code",
      "metadata": {
        "id": "oLhCs9bUVXtD"
      },
      "source": [
        "[\"List 1\", [\"List 2\", 3, 4], False]"
      ],
      "execution_count": null,
      "outputs": []
    },
    {
      "cell_type": "markdown",
      "metadata": {
        "id": "z1igsdg_Vfaa"
      },
      "source": [
        "Lists-of-lists come in really handy, especially in data science since much of the data that you'll work with will be in a tabular format. In these cases, the internal lists are typically the same size. For example, you might have a list of data points about a customer, such as their age, income, and the amount they spent at your company last month."
      ]
    },
    {
      "cell_type": "code",
      "metadata": {
        "id": "vCbbTrx8WCRb"
      },
      "source": [
        "customers = [\n",
        "    [\"C0\", 42, 56000, 12.30],\n",
        "    [\"C1\", 19, 15000, 43.21],\n",
        "    [\"C2\", 35, 123000, 45.67],\n",
        "]\n",
        "customers"
      ],
      "execution_count": null,
      "outputs": []
    },
    {
      "cell_type": "markdown",
      "metadata": {
        "id": "RJjfjKPXW3_b"
      },
      "source": [
        "You can use multiple indexing to get data out of a nested list. In the example below, we pull out the income of our second customer."
      ]
    },
    {
      "cell_type": "code",
      "metadata": {
        "id": "m3tVFhSpXOxU"
      },
      "source": [
        "customers[1][2]"
      ],
      "execution_count": null,
      "outputs": []
    },
    {
      "cell_type": "markdown",
      "metadata": {
        "id": "np3pCakUWqzH"
      },
      "source": [
        "We will explore lists more deeply and other data structures in future tutorials."
      ]
    },
    {
      "cell_type": "markdown",
      "metadata": {
        "id": "DaHEjvmwpqzT"
      },
      "source": [
        "### Tuples\n",
        "\n",
        "Tuples look and feel a whole lot like lists in Python. They can contain a sequence of data of any type, including lists and other tuples. The primary difference between lists and tuples is that you can't modify a tuple like you can a list.\n",
        "\n",
        "Before we get too deep into immutability (whether you can change an object's value), let's take a look at a tuple."
      ]
    },
    {
      "cell_type": "code",
      "metadata": {
        "id": "s2wbBKB2YYr9"
      },
      "source": [
        "my_tuple = (1, \"dog\", 3.987, False, [\"a\", \"list\", \"inside\", 1.0, \"tuple\"])\n",
        "my_tuple"
      ],
      "execution_count": null,
      "outputs": []
    },
    {
      "cell_type": "markdown",
      "metadata": {
        "id": "5gTQ6Gx6Yp1g"
      },
      "source": [
        "The visible difference between a list and a tuple is that we create a tuple with parentheses instead of square brackets.\n",
        "\n",
        "You can index a tuple and take a slice from a tuple just like you can from a list. \n",
        "\n",
        "The only difference is that you can't change the values inside a tuple, like you can with a list. This is useful because Python can perform some optimizations when it knows a data structure can't change. This gives tuples a few powerful properties that lists don't have. We'll take a peek at one of these properties now, and we'll also learn more later in this tutorial.\n",
        "\n",
        "We will use a property of a tuple to swap the values of two variables. In most languages, you need three variables to swap the value of two variables. Here is an example."
      ]
    },
    {
      "cell_type": "code",
      "metadata": {
        "id": "0Ufn_-6vZfws"
      },
      "source": [
        "var1 = \"Python\"\n",
        "var2 = \"Perl\"\n",
        "\n",
        "tmp = var1\n",
        "var1 = var2\n",
        "var2 = tmp\n",
        "\n",
        "var1, var2"
      ],
      "execution_count": null,
      "outputs": []
    },
    {
      "cell_type": "markdown",
      "metadata": {
        "id": "e86S6sL9ZzwO"
      },
      "source": [
        "We had to introduce the `tmp` variable to perform the swap, and needed three lines of code. With tuples, we can do this more cleanly.\n",
        "\n",
        "**Note:** You might have noticed that when we put `var1, var2` at the bottom of the last code section a tuple was printed out. Any sequence of variables separated by commas in Python automatically creates a tuple."
      ]
    },
    {
      "cell_type": "code",
      "metadata": {
        "id": "kmbYg8KdaVNW"
      },
      "source": [
        "var1 = \"Perl\"\n",
        "var2 = \"Python\"\n",
        "\n",
        "(var1, var2) = (var2, var1)\n",
        "\n",
        "var1, var2"
      ],
      "execution_count": null,
      "outputs": []
    },
    {
      "cell_type": "markdown",
      "metadata": {
        "id": "UMvM-x4baz6o"
      },
      "source": [
        "As you can see, swapping variables using tuples is much easier to read and less error-prone than having to use three variables. It uses the property that the values in a tuple are **immutable**."
      ]
    },
    {
      "cell_type": "markdown",
      "metadata": {
        "id": "OUI-5GqHbB5L"
      },
      "source": [
        "Tuples come up everywhere when programming in Python. Sometimes you won't even realize that you are working with a tuple, since they are so integrated with the language."
      ]
    },
    {
      "cell_type": "markdown",
      "metadata": {
        "id": "AM2MY7EPpsS5"
      },
      "source": [
        "### Dictionaries\n",
        "\n",
        "Dictionaries are another fundamental data structure in Python. If you have experience with other programming languages, you might have encountered a similar data structure with a different name such as a map, a hashmap, or a hashtable.\n",
        "\n",
        "Dictionaries contain key/value pairs. The reason this data structure is called a dictionary is because you can \"look up\" keys and find the corresponding value, just like you can look up a word in the Oxford Dictionary and find its definitions.\n",
        "\n",
        "Let's take a look at some code that creates a dictionary and accesses a value in the dictionary by key."
      ]
    },
    {
      "cell_type": "code",
      "metadata": {
        "id": "GkvFhLkguhln"
      },
      "source": [
        "my_dictionary = {\n",
        "    \"pet\": \"cat\",\n",
        "    \"car\": \"Tesla\",\n",
        "    \"lodging\": \"apartment\",\n",
        "}\n",
        "\n",
        "my_dictionary[\"pet\"]"
      ],
      "execution_count": null,
      "outputs": []
    },
    {
      "cell_type": "markdown",
      "metadata": {
        "id": "jhS92kCxu2N-"
      },
      "source": [
        "Notice that we use the same *indexing* notation that should be familiar to you from strings, lists, and tuples. However, instead of a numeric index, the look up is done by key.\n",
        "\n",
        "A key can be any non-mutable data value. Keys can be numbers, strings, and even tuples. You can't use a dictionary or list as a key, but you can use them as values.\n",
        "\n",
        "The data types of the keys do not need to be the same."
      ]
    },
    {
      "cell_type": "code",
      "metadata": {
        "id": "F7H45vAkvTc-"
      },
      "source": [
        "the_dictionary = {\n",
        "    57: \"the sneaky fox\",\n",
        "    \"many things\": [1, \"little list\", \" of \", 5.0, \"things\"],\n",
        "    (8, \"ocho\"): \"Hi there\",\n",
        "    \"KEY_ONE\": {\n",
        "        \"a\": \"dictionary\",\n",
        "        \"as a\": \"value\"\n",
        "    },\n",
        "}\n",
        "\n",
        "the_dictionary[(8, \"ocho\")]"
      ],
      "execution_count": null,
      "outputs": []
    },
    {
      "cell_type": "markdown",
      "metadata": {
        "id": "Ljuhxa7sv0Ze"
      },
      "source": [
        "The dictionary above is much more unstructured than dictionaries that you'll typically encounter in practice. However, it illustrates the broad range of key types and value types that a dictionary can store.\n",
        "\n",
        "You can also index many levels down in a dictionary. For example, in `the_dictionary` above, there is a sub-dictionary at the `KEY_ONE` key. Let's pull something out of this dictionary within a dictionary."
      ]
    },
    {
      "cell_type": "code",
      "metadata": {
        "id": "-9d8N3kxwgp_"
      },
      "source": [
        "the_dictionary[\"KEY_ONE\"]['as a']"
      ],
      "execution_count": null,
      "outputs": []
    },
    {
      "cell_type": "markdown",
      "metadata": {
        "id": "5faIdUYRwrZp"
      },
      "source": [
        "We can also use indexing to access the values of the list that is the value in `the_dictionary` for the key `\"many things\"`."
      ]
    },
    {
      "cell_type": "code",
      "metadata": {
        "id": "8QI8rJKMwtyH"
      },
      "source": [
        "the_dictionary[\"many things\"][1]"
      ],
      "execution_count": null,
      "outputs": []
    },
    {
      "cell_type": "markdown",
      "metadata": {
        "id": "gBwk3lyzxFlg"
      },
      "source": [
        "Dictionaries, lists, tuples, and other data structures can contain as much nesting as you need."
      ]
    },
    {
      "cell_type": "markdown",
      "metadata": {
        "id": "FyKt13WvxO0K"
      },
      "source": [
        "Dictionaries store their values by key. Only one value can exist per key, so if you write a new value to a key, the old value goes away."
      ]
    },
    {
      "cell_type": "code",
      "metadata": {
        "id": "XjvSiO5pxaQb"
      },
      "source": [
        "my_dictionary = {\n",
        "    \"k1\": \"name\",\n",
        "    \"k2\": \"age\"\n",
        "}\n",
        "\n",
        "my_dictionary[\"k1\"] = \"surname\"\n",
        "\n",
        "my_dictionary"
      ],
      "execution_count": null,
      "outputs": []
    },
    {
      "cell_type": "markdown",
      "metadata": {
        "id": "dySuvUTfxn-h"
      },
      "source": [
        "You can add entries to a dictionary by assigning them to a key."
      ]
    },
    {
      "cell_type": "code",
      "metadata": {
        "id": "KbMBUHKgxtWl"
      },
      "source": [
        "my_dictionary[\"k3\"] = \"rank\"\n",
        "\n",
        "my_dictionary"
      ],
      "execution_count": null,
      "outputs": []
    },
    {
      "cell_type": "markdown",
      "metadata": {
        "id": "BAi6X1T9xznZ"
      },
      "source": [
        "And you can remove entries from a dictionary using the **`del`** operator."
      ]
    },
    {
      "cell_type": "code",
      "metadata": {
        "id": "DzeaUA_lx7Vh"
      },
      "source": [
        "del my_dictionary[\"k2\"]\n",
        "\n",
        "my_dictionary"
      ],
      "execution_count": null,
      "outputs": []
    },
    {
      "cell_type": "markdown",
      "metadata": {
        "id": "DF9ipqh2yDwM"
      },
      "source": [
        "To see if a key exists in a dictionary, you can use the **`in`** operator. Notice that it returns a boolean value."
      ]
    },
    {
      "cell_type": "code",
      "metadata": {
        "id": "7-M5xn9DyJcS"
      },
      "source": [
        "\"k2\" in my_dictionary"
      ],
      "execution_count": null,
      "outputs": []
    },
    {
      "cell_type": "markdown",
      "metadata": {
        "id": "mGe0UEq4yUaI"
      },
      "source": [
        "It is advisable to check if a key exists in a dictionary before trying to index that key. If you try to access a key that doesn't exist using square brackets, your program will throw an error and possibly crash.\n",
        "\n",
        "There is also a safer **`get`** method on the dictionary object. You provide `get` with a key and a default value to return if the key isn't present."
      ]
    },
    {
      "cell_type": "code",
      "metadata": {
        "id": "gm5yy399y2Hk"
      },
      "source": [
        "my_dictionary.get(\"k2\", \"There is no 'k2' key value\")"
      ],
      "execution_count": null,
      "outputs": []
    },
    {
      "cell_type": "markdown",
      "metadata": {
        "id": "N4eyTWNPy7Fc"
      },
      "source": [
        "For more on dictionaries, check out the [official Python dictionary documentation](https://docs.python.org/3/tutorial/datastructures.html#dictionaries)."
      ]
    },
    {
      "cell_type": "markdown",
      "metadata": {
        "id": "KiF3xtSI40Tw"
      },
      "source": [
        "We've learned about the most fundamental data structures in Python:\n",
        "- numbers\n",
        "- booleans\n",
        "- lists\n",
        "- tuples\n",
        "- dictionaries\n",
        "\n",
        "We've learned how to store data in variables and how to change data in variables, dictionaries and lists. Each of these data types have more functionality than we have gone over in this tutorial, so please take some time to get a broader idea of what can be done with these data types in Python.\n",
        " \n",
        "There are also many data types that we did not cover. As we encounter the need for other types of data in our study of machine learning and data science, we will introduce and explain some of them."
      ]
    },
    {
      "cell_type": "markdown",
      "metadata": {
        "id": "qFPc3YgQ7ocD"
      },
      "source": [
        "## `for` Loops\n",
        "\n",
        "The `for` loop is a powerful tool that lets us look at every item in a data structure in order and perform operations on each element."
      ]
    },
    {
      "cell_type": "code",
      "metadata": {
        "id": "sk8Aw0yZJCUf",
        "colab": {
          "base_uri": "https://localhost:8080/"
        },
        "outputId": "61e5accb-7c94-407d-d2e4-0cd195bec45a"
      },
      "source": [
        "my_list = ['a', 'b', 'c']\n",
        "\n",
        "for item in my_list:\n",
        "  print(item)"
      ],
      "execution_count": 129,
      "outputs": [
        {
          "output_type": "stream",
          "text": [
            "a\n",
            "b\n",
            "c\n"
          ],
          "name": "stdout"
        }
      ]
    },
    {
      "cell_type": "markdown",
      "metadata": {
        "id": "dirxZstuJQnI"
      },
      "source": [
        "As you can see, the `for` loop executes `print` three times, once for each item in the list.\n",
        "\n",
        "The `for` loop works for tuples too."
      ]
    },
    {
      "cell_type": "code",
      "metadata": {
        "id": "p4Q9TFIEJZdK",
        "colab": {
          "base_uri": "https://localhost:8080/"
        },
        "outputId": "b1f96505-31f2-432d-ff28-ca671c763a6b"
      },
      "source": [
        "my_tuple = (5, 3, 1, -1, -3, -5)\n",
        "for x in my_tuple:\n",
        "  print(x)"
      ],
      "execution_count": 130,
      "outputs": [
        {
          "output_type": "stream",
          "text": [
            "5\n",
            "3\n",
            "1\n",
            "-1\n",
            "-3\n",
            "-5\n"
          ],
          "name": "stdout"
        }
      ]
    },
    {
      "cell_type": "markdown",
      "metadata": {
        "id": "-VfTc3TBJk5r"
      },
      "source": [
        "Dictionaries are a little more interesting. By default, the loop works by indexing the keys."
      ]
    },
    {
      "cell_type": "code",
      "metadata": {
        "id": "gSZist0eJrVY",
        "colab": {
          "base_uri": "https://localhost:8080/"
        },
        "outputId": "e8e11abc-e49b-4555-b89c-32d38209e2f8"
      },
      "source": [
        "my_dictionary = {\n",
        "    \"first_name\": \"Jane\",\n",
        "    \"last_name\": \"Doe\",\n",
        "    \"title\": \"Dr.\"\n",
        "}\n",
        "\n",
        "for k in my_dictionary:\n",
        "  print(f\"{k}: {my_dictionary[k]}\")"
      ],
      "execution_count": 131,
      "outputs": [
        {
          "output_type": "stream",
          "text": [
            "first_name: Jane\n",
            "last_name: Doe\n",
            "title: Dr.\n"
          ],
          "name": "stdout"
        }
      ]
    },
    {
      "cell_type": "markdown",
      "metadata": {
        "id": "Ir9HX9bSJ827"
      },
      "source": [
        "If only the dictionary's values are of concern to you, it is possible to ask the dictionary to return its values by using the `values()` method."
      ]
    },
    {
      "cell_type": "code",
      "metadata": {
        "id": "ktslT2NVKD3o",
        "colab": {
          "base_uri": "https://localhost:8080/"
        },
        "outputId": "622cfc9e-e5ce-4337-c822-90ee9236e800"
      },
      "source": [
        "for v in my_dictionary.values():\n",
        "  print(v)"
      ],
      "execution_count": 132,
      "outputs": [
        {
          "output_type": "stream",
          "text": [
            "Jane\n",
            "Doe\n",
            "Dr.\n"
          ],
          "name": "stdout"
        }
      ]
    },
    {
      "cell_type": "markdown",
      "metadata": {
        "id": "n4ohtpYDKRPY"
      },
      "source": [
        "If you want both the keys and the values without needing to lookup up `my_dictionary[k]`, you can ask the dictionary for its `items()`."
      ]
    },
    {
      "cell_type": "code",
      "metadata": {
        "id": "bGGDRbzPKIf9",
        "colab": {
          "base_uri": "https://localhost:8080/"
        },
        "outputId": "613d6630-ff2b-4e5f-a903-bdcc421e2315"
      },
      "source": [
        "for (k, v) in my_dictionary.items():\n",
        "  print(f\"{k}: {v}\")"
      ],
      "execution_count": 133,
      "outputs": [
        {
          "output_type": "stream",
          "text": [
            "first_name: Jane\n",
            "last_name: Doe\n",
            "title: Dr.\n"
          ],
          "name": "stdout"
        }
      ]
    },
    {
      "cell_type": "markdown",
      "metadata": {
        "id": "ivbCdgpXKn0z"
      },
      "source": [
        "You can also use `for` to operate on a string character by character. Each item in a string is a single character."
      ]
    },
    {
      "cell_type": "code",
      "metadata": {
        "id": "gt5Ru7HjKkjp",
        "colab": {
          "base_uri": "https://localhost:8080/"
        },
        "outputId": "913d8f75-2bf7-4208-adb2-4fe7297684f2"
      },
      "source": [
        "for c in \"this string\":\n",
        "  print(c)"
      ],
      "execution_count": 134,
      "outputs": [
        {
          "output_type": "stream",
          "text": [
            "t\n",
            "h\n",
            "i\n",
            "s\n",
            " \n",
            "s\n",
            "t\n",
            "r\n",
            "i\n",
            "n\n",
            "g\n"
          ],
          "name": "stdout"
        }
      ]
    },
    {
      "cell_type": "markdown",
      "metadata": {
        "id": "H2y1EkjmK6eL"
      },
      "source": [
        "If you want to iterate over a list or tuple and need the index of each item, you can use the `range` function along with the `len` function to get the indices of the list or tuple."
      ]
    },
    {
      "cell_type": "code",
      "metadata": {
        "id": "rGqDXpv6KwYy",
        "colab": {
          "base_uri": "https://localhost:8080/"
        },
        "outputId": "ae89c588-faba-4d5d-d740-97a460a908fa"
      },
      "source": [
        "for i in range(len(my_list)):\n",
        "  print(f\"{i}: {my_list[i]}\")"
      ],
      "execution_count": 135,
      "outputs": [
        {
          "output_type": "stream",
          "text": [
            "0: a\n",
            "1: b\n",
            "2: c\n"
          ],
          "name": "stdout"
        }
      ]
    },
    {
      "cell_type": "markdown",
      "metadata": {
        "id": "7vazK2DeLIxU"
      },
      "source": [
        "`range` is a function that returns a sequence of numbers. It can take one argument, two arguments, or three arguments.\n",
        "\n",
        "When you give one argument to `range`, it is considered to be the end of the range (exclusive)."
      ]
    },
    {
      "cell_type": "code",
      "metadata": {
        "id": "7n2oLEzGLXw7",
        "colab": {
          "base_uri": "https://localhost:8080/"
        },
        "outputId": "49ac6f7f-e759-40b9-a0a3-fa413d3cd86b"
      },
      "source": [
        "for i in range(5):\n",
        "    print(i)"
      ],
      "execution_count": 136,
      "outputs": [
        {
          "output_type": "stream",
          "text": [
            "0\n",
            "1\n",
            "2\n",
            "3\n",
            "4\n"
          ],
          "name": "stdout"
        }
      ]
    },
    {
      "cell_type": "markdown",
      "metadata": {
        "id": "JNHvCaZcLbOF"
      },
      "source": [
        "When you give two arguments to `range`, they are considered to be the start (inclusive) and end (exclusive) of the sequence."
      ]
    },
    {
      "cell_type": "code",
      "metadata": {
        "id": "C8dmRqSPLqQV",
        "colab": {
          "base_uri": "https://localhost:8080/"
        },
        "outputId": "e7842490-2e32-4ba3-fc34-e9d7db9a1827"
      },
      "source": [
        "for i in range(6, 12):\n",
        "    print(i)"
      ],
      "execution_count": 137,
      "outputs": [
        {
          "output_type": "stream",
          "text": [
            "6\n",
            "7\n",
            "8\n",
            "9\n",
            "10\n",
            "11\n"
          ],
          "name": "stdout"
        }
      ]
    },
    {
      "cell_type": "markdown",
      "metadata": {
        "id": "RdmqeIAdLtDK"
      },
      "source": [
        "When you give three arguments to `range`, they are considered to be the start (inclusive), end (exclusive), and step size of the sequence."
      ]
    },
    {
      "cell_type": "code",
      "metadata": {
        "id": "tu933OcnL3eq",
        "colab": {
          "base_uri": "https://localhost:8080/"
        },
        "outputId": "0b380270-2553-46cd-b53e-c6fe346b0096"
      },
      "source": [
        "for i in range(20, 100, 10):\n",
        "    print(i)"
      ],
      "execution_count": 138,
      "outputs": [
        {
          "output_type": "stream",
          "text": [
            "20\n",
            "30\n",
            "40\n",
            "50\n",
            "60\n",
            "70\n",
            "80\n",
            "90\n"
          ],
          "name": "stdout"
        }
      ]
    },
    {
      "cell_type": "markdown",
      "metadata": {
        "id": "bxhdbYLYL7tY"
      },
      "source": [
        "Ranges are lazily evaluated so even very large ranges will not occupy a significant amount of memory."
      ]
    },
    {
      "cell_type": "markdown",
      "metadata": {
        "id": "rLKvNuQlxkFg"
      },
      "source": [
        "`for` loops can also be useful for making a list. For example, if we want to generate a list of random numbers, we could use the `random` library within a `for` loop."
      ]
    },
    {
      "cell_type": "code",
      "metadata": {
        "id": "goP7QXiSiu1v",
        "colab": {
          "base_uri": "https://localhost:8080/"
        },
        "outputId": "d6f4da0e-c37f-4df6-bc7b-b82746c80bad"
      },
      "source": [
        "import random\n",
        "\n",
        "random_numbers = []\n",
        "for i in range(10):\n",
        "    random_numbers.append(random.randint(0, 10))\n",
        "print(random_numbers)"
      ],
      "execution_count": 139,
      "outputs": [
        {
          "output_type": "stream",
          "text": [
            "[8, 8, 10, 5, 5, 0, 5, 10, 10, 5]\n"
          ],
          "name": "stdout"
        }
      ]
    },
    {
      "cell_type": "markdown",
      "metadata": {
        "id": "iogbsWBcMdbr"
      },
      "source": [
        "## `while` Loops\n",
        "\n",
        "The `while` loop allows you to repeat a block of code until some arbitrary condition is met."
      ]
    },
    {
      "cell_type": "code",
      "metadata": {
        "id": "Lo1YXGn8M6XT",
        "colab": {
          "base_uri": "https://localhost:8080/"
        },
        "outputId": "a3def60a-8f8c-4d49-e099-807c8867b1f9"
      },
      "source": [
        "counter = 0\n",
        "\n",
        "while counter < 5:\n",
        "  print(\"Not done yet, counter = %d\" % counter)\n",
        "  counter += 1\n",
        "\n",
        "print(\"Done, counter = %d\" % counter)"
      ],
      "execution_count": 126,
      "outputs": [
        {
          "output_type": "stream",
          "text": [
            "Not done yet, counter = 0\n",
            "Not done yet, counter = 1\n",
            "Not done yet, counter = 2\n",
            "Not done yet, counter = 3\n",
            "Not done yet, counter = 4\n",
            "Done, counter = 5\n"
          ],
          "name": "stdout"
        }
      ]
    },
    {
      "cell_type": "markdown",
      "metadata": {
        "id": "HhN1wqr1NAQx"
      },
      "source": [
        "`while` loops can be useful in many situations, especially those when you don't know for sure how many times you might need to loop.\n",
        " \n",
        "**Note:** You might have also noticed the `+=` operator in the example above. This is a shortcut that Python provides so that we don't have to write out `counter = counter + 1`. There are equivalents for subtraction, multiplication, division, and more."
      ]
    },
    {
      "cell_type": "markdown",
      "metadata": {
        "id": "TwPCggdfN8GP"
      },
      "source": [
        "### `break`\n",
        "\n",
        "There are times when you might want to exit a loop before it is complete. For this case, you can use the `break` statement.\n",
        "\n",
        "In the example below, the `break` statement causes the loop to exit after only five iterations, despite having a range of 1,000,000 numbers to iterate."
      ]
    },
    {
      "cell_type": "code",
      "metadata": {
        "id": "CHhiRnYTOCqG",
        "colab": {
          "base_uri": "https://localhost:8080/"
        },
        "outputId": "ae6e13ce-c67a-496c-bb56-b645307872fb"
      },
      "source": [
        "for x in range(1000000):\n",
        "  if x >= 5:\n",
        "    break\n",
        "  print(x)"
      ],
      "execution_count": 127,
      "outputs": [
        {
          "output_type": "stream",
          "text": [
            "0\n",
            "1\n",
            "2\n",
            "3\n",
            "4\n"
          ],
          "name": "stdout"
        }
      ]
    },
    {
      "cell_type": "markdown",
      "metadata": {
        "id": "MldYIF3jOTF4"
      },
      "source": [
        "### `continue`\n",
        "\n",
        "`continue` is similar to `break`, but instead of exiting the loop entirely, it just skips the current iteration.\n",
        "\n",
        "Let's see this in action with a loop that prints numbers between 0 and 7 except 4 and 6."
      ]
    },
    {
      "cell_type": "code",
      "metadata": {
        "id": "awLAZUqCOfCo",
        "colab": {
          "base_uri": "https://localhost:8080/"
        },
        "outputId": "8766d5ec-cbd6-449a-aa44-0010c3b7512f"
      },
      "source": [
        "for x in range(10):\n",
        "  if x == 4 or x == 6:\n",
        "    continue\n",
        "  print(x)"
      ],
      "execution_count": 171,
      "outputs": [
        {
          "output_type": "stream",
          "text": [
            "0\n",
            "1\n",
            "2\n",
            "3\n",
            "5\n",
            "7\n",
            "8\n",
            "9\n"
          ],
          "name": "stdout"
        }
      ]
    },
    {
      "cell_type": "markdown",
      "metadata": {
        "id": "u9DuFDG_p2rz"
      },
      "source": [
        "## Functions\n",
        "\n",
        "Functions are a way to organize and re-use your code. Functions allow you to take a block of your code, give it a name, and then call that code by name as many times as you need to.\n",
        "\n",
        "Functions are defined in Python using the `def` statement."
      ]
    },
    {
      "cell_type": "code",
      "metadata": {
        "id": "BVpNQ4swQr3u",
        "colab": {
          "base_uri": "https://localhost:8080/"
        },
        "outputId": "09cffe07-b584-4314-fe22-7d9e4b84579d"
      },
      "source": [
        "def my_function():\n",
        "  print(\"I wrote a function\")\n",
        "\n",
        "my_function()\n",
        "my_function()\n",
        "my_function()"
      ],
      "execution_count": 178,
      "outputs": [
        {
          "output_type": "stream",
          "text": [
            "I wrote a function\n",
            "I wrote a function\n",
            "I wrote a function\n"
          ],
          "name": "stdout"
        }
      ]
    },
    {
      "cell_type": "markdown",
      "metadata": {
        "id": "6NcFKBi2Q8De"
      },
      "source": [
        "Standard function definitions always begin with the `def` keyword followed by the name of the function. Function naming follows the same rules as variable naming.\n",
        "\n",
        "All function definitions are composed of:\n",
        "\n",
        "- The `def` keyword which tells Python you are about to define a function\n",
        "- Any arguments that you want to pass to the function, wrapped in parentheses (more details on this below)\n",
        "- A colon to end the statement\n",
        "\n",
        "The function's code is indented under the function definition."
      ]
    },
    {
      "cell_type": "markdown",
      "metadata": {
        "id": "upFwmsk3R5R4"
      },
      "source": [
        "The arguments that come between the parentheses hold the names of variables that can be used in the function. Function arguments, also called parameters, are used to provide the function with data.\n",
        "\n",
        "**Note:** The reason `my_function` above has nothing within the parentheses is because that particular function has no arguments. A function can have zero or more arguments."
      ]
    },
    {
      "cell_type": "code",
      "metadata": {
        "id": "m0Cm8vbzSOxo",
        "colab": {
          "base_uri": "https://localhost:8080/"
        },
        "outputId": "3d27460e-6f57-48c1-8234-84f93f9f3683"
      },
      "source": [
        "def doubler(n):\n",
        "  print(n*2)\n",
        "\n",
        "doubler(2)"
      ],
      "execution_count": 179,
      "outputs": [
        {
          "output_type": "stream",
          "text": [
            "4\n"
          ],
          "name": "stdout"
        }
      ]
    },
    {
      "cell_type": "markdown",
      "metadata": {
        "id": "tPhUa3P7T9W3"
      },
      "source": [
        "Instead of just printing an output, functions can also return data."
      ]
    },
    {
      "cell_type": "code",
      "metadata": {
        "id": "CB1b7Q-dUJkc",
        "colab": {
          "base_uri": "https://localhost:8080/"
        },
        "outputId": "0898de1e-095b-4008-bf8b-57f45b06f20a"
      },
      "source": [
        "def doubler(n):\n",
        "  return n*2\n",
        "\n",
        "print(doubler(2))"
      ],
      "execution_count": 180,
      "outputs": [
        {
          "output_type": "stream",
          "text": [
            "4\n"
          ],
          "name": "stdout"
        }
      ]
    },
    {
      "cell_type": "markdown",
      "metadata": {
        "id": "dECmjCN-UU0d"
      },
      "source": [
        "Functions can return multiple values as a tuple. The following function returns the minimum and maximum (in that order) of the numbers in a list or tuple."
      ]
    },
    {
      "cell_type": "code",
      "metadata": {
        "id": "umXslWytUXkT",
        "colab": {
          "base_uri": "https://localhost:8080/"
        },
        "outputId": "288f3615-17db-43d4-c08e-1dd5dd21b7da"
      },
      "source": [
        "def min_max(numbers):\n",
        "  min = 0\n",
        "  max = 0\n",
        "  for n in numbers:\n",
        "    if n > max:\n",
        "      max = n\n",
        "    if n < min:\n",
        "      min = n\n",
        "  return min, max\n",
        "\n",
        "print(min_max([-6, 78, -102, 45, 5.98, 3.1243]))"
      ],
      "execution_count": 181,
      "outputs": [
        {
          "output_type": "stream",
          "text": [
            "(-102, 78)\n"
          ],
          "name": "stdout"
        }
      ]
    },
    {
      "cell_type": "markdown",
      "metadata": {
        "id": "3sFqKkIuVCfv"
      },
      "source": [
        "It is important to note that when you pass data to a function, the function gets a *copy* of the data. For numeric, boolean, and string data types, that means that the function can't directly modify the data you passed in. For lists and dictionaries, it is a little more complicated. The function gets a *copy of the location/address* of the data structure. While the function can't change that address, it *can* modify the data structure.\n",
        "\n",
        "Let's see some examples to solidify the point. In this first example we can see that the number changer can't make any changes to the variable `my_number`."
      ]
    },
    {
      "cell_type": "code",
      "metadata": {
        "id": "FMpdW55IVWCJ",
        "colab": {
          "base_uri": "https://localhost:8080/"
        },
        "outputId": "7113a4f3-2660-4a67-e39b-4eb62703e76d"
      },
      "source": [
        "def number_changer(n):\n",
        "  n = 42\n",
        "\n",
        "my_number = 24\n",
        "number_changer(my_number)\n",
        "print(my_number)"
      ],
      "execution_count": 182,
      "outputs": [
        {
          "output_type": "stream",
          "text": [
            "24\n"
          ],
          "name": "stdout"
        }
      ]
    },
    {
      "cell_type": "markdown",
      "metadata": {
        "id": "rGdDthSaWLGt"
      },
      "source": [
        "The same is true for booleans. The function below can't modify `my_bool`."
      ]
    },
    {
      "cell_type": "code",
      "metadata": {
        "id": "0IKK0XRaWPxT",
        "colab": {
          "base_uri": "https://localhost:8080/"
        },
        "outputId": "afbee32c-e99d-4e5a-fc63-116650a0d408"
      },
      "source": [
        "def bool_changer(b):\n",
        "  b = False\n",
        "\n",
        "my_bool = True\n",
        "bool_changer(my_bool)\n",
        "print(my_bool)"
      ],
      "execution_count": 183,
      "outputs": [
        {
          "output_type": "stream",
          "text": [
            "True\n"
          ],
          "name": "stdout"
        }
      ]
    },
    {
      "cell_type": "markdown",
      "metadata": {
        "id": "8cyusJcMWbD9"
      },
      "source": [
        "The same is true for strings."
      ]
    },
    {
      "cell_type": "code",
      "metadata": {
        "id": "BiIbX1b2WeGm",
        "colab": {
          "base_uri": "https://localhost:8080/"
        },
        "outputId": "cc1ead3f-b55e-4c7b-ba56-2e8d485c8268"
      },
      "source": [
        "def string_changer(s):\n",
        "  s = \"Got you!\"\n",
        "\n",
        "my_string = \"You can't get me\"\n",
        "string_changer(my_string)\n",
        "print(my_string)"
      ],
      "execution_count": 184,
      "outputs": [
        {
          "output_type": "stream",
          "text": [
            "You can't get me\n"
          ],
          "name": "stdout"
        }
      ]
    },
    {
      "cell_type": "markdown",
      "metadata": {
        "id": "2yJ03-RCWrcs"
      },
      "source": [
        "However, lists can be modified. See the example below."
      ]
    },
    {
      "cell_type": "code",
      "metadata": {
        "id": "7Wd-GGGeWwBY",
        "colab": {
          "base_uri": "https://localhost:8080/"
        },
        "outputId": "9ddf0ac5-9703-42ee-8e8e-010a39d018df"
      },
      "source": [
        "def list_changer(list_parameter):\n",
        "  list_parameter[0] = \"changed!\"\n",
        "\n",
        "my_list = [1, 2, 3]\n",
        "list_changer(my_list)\n",
        "print(my_list)"
      ],
      "execution_count": 185,
      "outputs": [
        {
          "output_type": "stream",
          "text": [
            "['changed!', 2, 3]\n"
          ],
          "name": "stdout"
        }
      ]
    },
    {
      "cell_type": "markdown",
      "metadata": {
        "id": "wGqGcQvbXAKJ"
      },
      "source": [
        "What do you think the code below will do?"
      ]
    },
    {
      "cell_type": "code",
      "metadata": {
        "id": "D-qahKSCXJj6",
        "colab": {
          "base_uri": "https://localhost:8080/"
        },
        "outputId": "447fca25-6fa2-41b2-889d-6142439b3441"
      },
      "source": [
        "def list_changer(list_parameter):\n",
        "  list_parameter = [\"this is my list now\"]\n",
        "\n",
        "my_list = [1, 2, 3]\n",
        "list_changer(my_list)\n",
        "print(my_list)"
      ],
      "execution_count": 186,
      "outputs": [
        {
          "output_type": "stream",
          "text": [
            "[1, 2, 3]\n"
          ],
          "name": "stdout"
        }
      ]
    },
    {
      "cell_type": "markdown",
      "metadata": {
        "id": "E7qbZizOwl1k"
      },
      "source": [
        "Functions cannot change the value of the entire list, they can only change individual values within the list."
      ]
    },
    {
      "cell_type": "markdown",
      "metadata": {
        "id": "mgArUXxCXT_6"
      },
      "source": [
        "Dictionaries interact with functions exactly like lists do."
      ]
    },
    {
      "cell_type": "code",
      "metadata": {
        "id": "-hbfpZx5Xb2E",
        "colab": {
          "base_uri": "https://localhost:8080/"
        },
        "outputId": "18bea19e-dc0f-48f5-b6a7-b4612ee191af"
      },
      "source": [
        "def dictionary_changer(d):\n",
        "  d[\"my_entry\"] = 100\n",
        "\n",
        "my_dictionary = {\"a\": 100, \"b\": \"bee\"}\n",
        "dictionary_changer(my_dictionary)\n",
        "print(my_dictionary)"
      ],
      "execution_count": 187,
      "outputs": [
        {
          "output_type": "stream",
          "text": [
            "{'a': 100, 'b': 'bee', 'my_entry': 100}\n"
          ],
          "name": "stdout"
        }
      ]
    },
    {
      "cell_type": "code",
      "metadata": {
        "id": "xcpPFrnZXtwM",
        "colab": {
          "base_uri": "https://localhost:8080/"
        },
        "outputId": "2b6a27e1-9918-4d63-c412-18c33b759c87"
      },
      "source": [
        "def dictionary_changer(d):\n",
        "  d = {\"this is\": \"my dictionary\"}\n",
        "\n",
        "my_dictionary = {\"a\": 100, \"b\": \"bee\"}\n",
        "dictionary_changer(my_dictionary)\n",
        "print(my_dictionary)"
      ],
      "execution_count": 188,
      "outputs": [
        {
          "output_type": "stream",
          "text": [
            "{'a': 100, 'b': 'bee'}\n"
          ],
          "name": "stdout"
        }
      ]
    },
    {
      "cell_type": "markdown",
      "metadata": {
        "id": "i7dfFTnqX2O2"
      },
      "source": [
        "So, how can you get a function to modify a number, bool, or string? You can simply assign the return value of the function to the original variable."
      ]
    },
    {
      "cell_type": "code",
      "metadata": {
        "id": "xM5nDmNuYA2N",
        "colab": {
          "base_uri": "https://localhost:8080/"
        },
        "outputId": "a3194cda-a92c-4cb9-e95a-8a6e343f15ec"
      },
      "source": [
        "def number_changer(n):\n",
        "  return n + 1\n",
        "\n",
        "def boolean_changer(b):\n",
        "  return not b\n",
        "\n",
        "def string_changer(s):\n",
        "  return s.upper()\n",
        "\n",
        "my_number = 42\n",
        "my_bool = False\n",
        "my_string = \"Python\"\n",
        "\n",
        "my_number = number_changer(my_number)\n",
        "my_bool = boolean_changer(my_bool)\n",
        "my_string = string_changer(my_string)\n",
        "\n",
        "print(my_number)\n",
        "print(my_bool)\n",
        "print(my_string)"
      ],
      "execution_count": 189,
      "outputs": [
        {
          "output_type": "stream",
          "text": [
            "43\n",
            "True\n",
            "PYTHON\n"
          ],
          "name": "stdout"
        }
      ]
    },
    {
      "cell_type": "markdown",
      "metadata": {
        "id": "w1CW590FbAy4"
      },
      "source": [
        "###  Pass\n",
        "\n",
        "`pass` is a Python keyword that is used as a placeholder when code hasn't been written yet. You'll see `pass` often in your exercises as a placeholder for the code you'll need to write."
      ]
    },
    {
      "cell_type": "code",
      "metadata": {
        "id": "_NA64T75bXAU"
      },
      "source": [
        "def do_nothing_function():\n",
        "  pass\n",
        "\n",
        "do_nothing_function()"
      ],
      "execution_count": 193,
      "outputs": []
    },
    {
      "cell_type": "markdown",
      "metadata": {
        "id": "o9rgbpgRNRpy"
      },
      "source": [
        "### Exercise 4"
      ]
    },
    {
      "cell_type": "markdown",
      "metadata": {
        "id": "LXjVsAFwKl0s"
      },
      "source": [
        "Write a function that implements rock, paper, scissors below. Your function should take in the player's choice of rock, paper, or scissors and plays a game against the computer, which chooses randomly. Feel free to copy code from the \"Conditional Decisions\" section."
      ]
    },
    {
      "cell_type": "markdown",
      "metadata": {
        "id": "CB_xwusBKC4I"
      },
      "source": [
        "#### **Student Solution**"
      ]
    },
    {
      "cell_type": "code",
      "metadata": {
        "id": "toyYdLMWRT68",
        "colab": {
          "base_uri": "https://localhost:8080/"
        },
        "outputId": "5f98a539-e9e2-4e7b-92d4-b199a2a6c779"
      },
      "source": [
        "def rock_paper_scissors(player_choice):\n",
        "  import random\n",
        "computer = random.choice([\"rock\", \"paper\", \"scissors\"]) \n",
        "\n",
        "my_choice = \"paper\" # Feel free to change this.\n",
        "\n",
        "print(f\"You chose {my_choice}!\")\n",
        "print(f\"The computer chose {computer}!\")\n",
        "\n",
        "if my_choice == computer:\n",
        "  print(\"Draw! Go again!\")\n",
        "\n",
        "elif my_choice == \"rock\" and computer == \"paper\":\n",
        "  print(\"The computer wins. Try again?\")\n",
        "\n",
        "elif my_choice == \"rock\" and computer == \"scissors\":\n",
        "  print(\"You smashed the computer's scissors!\")\n",
        "\n",
        "elif my_choice == \"paper\" and computer == \"rock\":\n",
        "  print(\"You wrapped up the computer's rock!\")\n",
        "\n",
        "elif my_choice == \"paper\" and computer == \"scissors\":\n",
        "  print(\"The computer wins. Try again?\")\n",
        "\n",
        "elif my_choice == \"scissors\" and computer == \"rock\":\n",
        "  print(\"The computer wins. Try again?\")\n",
        "\n",
        "elif my_choice == \"scissors\" and computer == \"paper\":\n",
        "  print(\"You sliced up the computer's paper!\")\n",
        "  # Add code here that takes in the players choice of rock, paper, or scissors\n",
        "  # and plays a game against the computer, which chooses randomly.\n",
        "  # You can copy code from the \"Conditional Decisions\" section if you like.\n",
        "  pass"
      ],
      "execution_count": 202,
      "outputs": [
        {
          "output_type": "stream",
          "text": [
            "You chose paper!\n",
            "The computer chose paper!\n",
            "Draw! Go again!\n"
          ],
          "name": "stdout"
        }
      ]
    },
    {
      "cell_type": "code",
      "metadata": {
        "id": "Vk_s5QMnTf-Y"
      },
      "source": [
        "rock_paper_scissors(\"rock\")\n",
        "rock_paper_scissors(\"paper\")\n",
        "rock_paper_scissors(\"scissors\")"
      ],
      "execution_count": 203,
      "outputs": []
    },
    {
      "cell_type": "markdown",
      "metadata": {
        "id": "dnKNAm9bJt4a"
      },
      "source": [
        "---"
      ]
    },
    {
      "cell_type": "markdown",
      "metadata": {
        "id": "D_bKEdYtZdFd"
      },
      "source": [
        "## Comments\n",
        "\n",
        "Comments are simply pieces of your code that will be skipped over when the program is running. While this may sound meaningless, comments are a crucial way for you to communicate with readers of your code (which often includes your future self) about what your code does. Do not underestimate the importance of good code commenting!\n",
        "\n",
        "Python considers the hash (`#`) to be the start of a comment. This hash can be anywhere in a line. Anything after the hash on the same line won't be executed.\n",
        "\n",
        "Let's look at an example."
      ]
    },
    {
      "cell_type": "code",
      "metadata": {
        "id": "y6OIz3kWaL5a",
        "colab": {
          "base_uri": "https://localhost:8080/"
        },
        "outputId": "bd88056a-ea9b-4d33-943c-de806146eb2c"
      },
      "source": [
        "# This is a comment used to document.\n",
        "# If I need more than one line,\n",
        "# then I need to add more hashes.\n",
        "\n",
        "print(\"Hello\") # Comments don't have to be at the start of a line\n",
        "\n",
        "# print(\"This won't run\")"
      ],
      "execution_count": 204,
      "outputs": [
        {
          "output_type": "stream",
          "text": [
            "Hello\n"
          ],
          "name": "stdout"
        }
      ]
    },
    {
      "cell_type": "markdown",
      "metadata": {
        "id": "rgjTJDgFahSC"
      },
      "source": [
        "# More Exercises"
      ]
    },
    {
      "cell_type": "markdown",
      "metadata": {
        "id": "FwMbxGGgfqU3"
      },
      "source": [
        "## Practice Problems\n",
        "\n",
        "In case you want to go back and look at the previous exercises, we've made some links here to make it easy to go back and find them.\n",
        "\n",
        "*   [Printing](#scrollTo=ED0MmXO9Ytkl)\n",
        "*   [Integers](#scrollTo=fqQQ2FVTN0__)\n",
        "*   [Booleans](#scrollTo=l1kunoRTl5GQ)\n",
        "*   [Functions](#scrollTo=o9rgbpgRNRpy)\n",
        "\n",
        "Once you feel comfortable with the concepts we've covered, you can move on to the challenge problems below."
      ]
    },
    {
      "cell_type": "markdown",
      "metadata": {
        "id": "5CORN6WcalLz"
      },
      "source": [
        "## Exercise 5"
      ]
    },
    {
      "cell_type": "markdown",
      "metadata": {
        "id": "KlzvSZ13rW19"
      },
      "source": [
        "In the code block below, complete the function by making it return the number cubed."
      ]
    },
    {
      "cell_type": "markdown",
      "metadata": {
        "id": "31lkzGYRxu9P"
      },
      "source": [
        "### Student Solution"
      ]
    },
    {
      "cell_type": "code",
      "metadata": {
        "id": "-9DYcdrWa3cJ",
        "colab": {
          "base_uri": "https://localhost:8080/"
        },
        "outputId": "a35a9aef-f3eb-42ca-ca9f-be3fd11b378d"
      },
      "source": [
        "def cube(n):\n",
        "  return n**3\n",
        "print(cube(5))"
      ],
      "execution_count": 205,
      "outputs": [
        {
          "output_type": "stream",
          "text": [
            "125\n"
          ],
          "name": "stdout"
        }
      ]
    },
    {
      "cell_type": "markdown",
      "metadata": {
        "id": "DSwxHrmpVok3"
      },
      "source": [
        "---"
      ]
    },
    {
      "cell_type": "markdown",
      "metadata": {
        "id": "vCd361qEbiRB"
      },
      "source": [
        "## Exercise 6"
      ]
    },
    {
      "cell_type": "markdown",
      "metadata": {
        "id": "TuYoUIixrY7T"
      },
      "source": [
        "In the code block below, complete the function by making it return the sum of the even numbers of the provided sequence (list or tuple)."
      ]
    },
    {
      "cell_type": "markdown",
      "metadata": {
        "id": "XUvoqKWNx5hV"
      },
      "source": [
        "### Student Solution"
      ]
    },
    {
      "cell_type": "code",
      "metadata": {
        "id": "TYCBS1xXbsoW",
        "colab": {
          "base_uri": "https://localhost:8080/"
        },
        "outputId": "93e4a363-188b-4be0-c1ab-7be5473a9b4b"
      },
      "source": [
        "def sum_of_evens(seq):\n",
        "  x = 0\n",
        "  for num in seq:\n",
        "    if num % 2 == 0 and num > 0:\n",
        "      x+=num\n",
        "  return x\n",
        "print(sum_of_evens([5, 14, 6, -2, 0, 45, 66]))"
      ],
      "execution_count": 206,
      "outputs": [
        {
          "output_type": "stream",
          "text": [
            "86\n"
          ],
          "name": "stdout"
        }
      ]
    },
    {
      "cell_type": "markdown",
      "metadata": {
        "id": "jxJbGl3xVtW2"
      },
      "source": [
        "---"
      ]
    },
    {
      "cell_type": "markdown",
      "metadata": {
        "id": "SNzbvnMYbwff"
      },
      "source": [
        "## Exercise 7"
      ]
    },
    {
      "cell_type": "markdown",
      "metadata": {
        "id": "VPx_YEOkrbHJ"
      },
      "source": [
        "We've provided a helper function for you that will take a random step, returning either -1 or 1. It is your job to use this function in another function that takes in a starting value `start` and an ending value `end`, and goes on a random walk from `start` until it reaches `end`. Your function should return the number of steps required to reach `end`. (Note that it may help for debugging to print the value of the random walk at each step.)"
      ]
    },
    {
      "cell_type": "code",
      "metadata": {
        "id": "mFVVIgnneQeX"
      },
      "source": [
        "import random  \n",
        "\n",
        "def random_step():\n",
        "  # Returns either -1 or 1 at random \n",
        "  return random.choice([-1, 1])"
      ],
      "execution_count": 207,
      "outputs": []
    },
    {
      "cell_type": "markdown",
      "metadata": {
        "id": "xfOuW44xx_6C"
      },
      "source": [
        "### Student Solution"
      ]
    },
    {
      "cell_type": "code",
      "metadata": {
        "id": "p4ZsxD5vcbsL",
        "colab": {
          "base_uri": "https://localhost:8080/"
        },
        "outputId": "4502b815-e9c9-4f05-84d2-a9f0b1df7a5b"
      },
      "source": [
        "def random_walks(start, num_steps):\n",
        "  x = 0\n",
        "  g = start \n",
        "  while g != num_steps:\n",
        "    g+= random_step()\n",
        "    x+=1\n",
        "    print(f\"{g}\")\n",
        "  return x\n",
        "print(random_walks(0, 5))"
      ],
      "execution_count": 61,
      "outputs": [
        {
          "output_type": "stream",
          "text": [
            "1\n",
            "2\n",
            "3\n",
            "2\n",
            "3\n",
            "2\n",
            "3\n",
            "4\n",
            "5\n",
            "9\n"
          ],
          "name": "stdout"
        }
      ]
    },
    {
      "cell_type": "markdown",
      "metadata": {
        "id": "csOdifBNWH0o"
      },
      "source": [
        "---"
      ]
    }
  ]
}